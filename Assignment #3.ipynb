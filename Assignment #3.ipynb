{
 "cells": [
  {
   "cell_type": "markdown",
   "metadata": {},
   "source": [
    "# Assignment # 3\n",
    "###### Dictionary tasks\n",
    "* Shiza Hammad\n",
    "* Roll num : PIAIC56327"
   ]
  },
  {
   "cell_type": "markdown",
   "metadata": {},
   "source": [
    "# Task1\n",
    "#### python program to add a key-value pair to the dictionary"
   ]
  },
  {
   "cell_type": "code",
   "execution_count": 2,
   "metadata": {},
   "outputs": [
    {
     "name": "stdout",
     "output_type": "stream",
     "text": [
      "case : 1\n",
      "Enter key(int) to be added: 12\n",
      "Enter value for the key to be added: 34\n",
      "updated dictionary is :\n",
      "{12: 34}\n",
      "case : 2\n",
      "Enter key(int) to be added: 34\n",
      "Enter value for the key to be added: 29\n",
      "updated dictionary is :\n",
      "{34: 29}\n"
     ]
    }
   ],
   "source": [
    " for i in range(1,3):\n",
    "    print(\"case :\", i )\n",
    "    key = int(input(\"Enter key(int) to be added: \"))\n",
    "    value = int(input(\"Enter value for the key to be added: \"))\n",
    "    data = {}\n",
    "    data.update({key:value})\n",
    "    print(\"updated dictionary is :\")\n",
    "    print(data)\n",
    "        "
   ]
  },
  {
   "cell_type": "markdown",
   "metadata": {},
   "source": [
    "# Task 2\n",
    "#### python program to concatenate two dictionaries into one"
   ]
  },
  {
   "cell_type": "code",
   "execution_count": 5,
   "metadata": {},
   "outputs": [
    {
     "name": "stdout",
     "output_type": "stream",
     "text": [
      "Case 1:\n",
      "{'A': 1, 'C': 3, 'B': 2}\n"
     ]
    }
   ],
   "source": [
    "data1 = {'A':1}\n",
    "data2 = {'C':3, \n",
    "        'B':2}\n",
    "data1.update(data2)\n",
    "print(\"Case 1:\")\n",
    "print(data1)"
   ]
  },
  {
   "cell_type": "markdown",
   "metadata": {},
   "source": [
    "# Task 3\n",
    "#### python program to check if a given key exists in a dictionary or not"
   ]
  },
  {
   "cell_type": "code",
   "execution_count": 1,
   "metadata": {},
   "outputs": [
    {
     "name": "stdout",
     "output_type": "stream",
     "text": [
      "case : 1\n",
      "Enter key to check: A\n",
      "key is present and the value of key is:\n",
      "1\n",
      "case : 2\n",
      "Enter key to check: F\n",
      "key isnt present!\n"
     ]
    }
   ],
   "source": [
    " for i in range(1,3):\n",
    "    print(\"case :\", i )\n",
    "    data1 = {\n",
    "        'A':1,\n",
    "        'B':2,\n",
    "        'C':3\n",
    "    }\n",
    "    \n",
    "    key = input(\"Enter key to check: \")\n",
    "    if (key in data1.keys()):\n",
    "        print(\"key is present and the value of key is:\")\n",
    "        print(data1[key])\n",
    "    else:\n",
    "        print(\"key isnt present!\")\n",
    "   \n",
    "    "
   ]
  },
  {
   "cell_type": "markdown",
   "metadata": {},
   "source": [
    "# Task 4\n",
    "#### python program to generate a dictionary that contains numbers (between 1 and n) in the form (x, x*x)."
   ]
  },
  {
   "cell_type": "code",
   "execution_count": 10,
   "metadata": {},
   "outputs": [
    {
     "name": "stdout",
     "output_type": "stream",
     "text": [
      "case : 1\n",
      "Enter a number: 5\n",
      "{1: 1, 2: 4, 3: 9, 4: 16, 5: 25}\n",
      "case : 2\n",
      "Enter a number: 19\n",
      "{1: 1, 2: 4, 3: 9, 4: 16, 5: 25, 6: 36, 7: 49, 8: 64, 9: 81, 10: 100, 11: 121, 12: 144, 13: 169, 14: 196, 15: 225, 16: 256, 17: 289, 18: 324, 19: 361}\n"
     ]
    }
   ],
   "source": [
    " for i in range(1,3):\n",
    "    print(\"case :\", i )\n",
    "    var1 = int (input(\"Enter a number: \"))\n",
    "    data = { i: i*i for i in range(1, var1+1)}\n",
    "    print(data) "
   ]
  },
  {
   "cell_type": "markdown",
   "metadata": {},
   "source": [
    "# Task 5\n",
    "#### python program to sum all the items in a dictionary"
   ]
  },
  {
   "cell_type": "code",
   "execution_count": 30,
   "metadata": {},
   "outputs": [
    {
     "name": "stdout",
     "output_type": "stream",
     "text": [
      "Total sum of values in the dictionary:\n",
      "125\n"
     ]
    }
   ],
   "source": [
    "data = {'A': 100,\n",
    "       'B': 25\n",
    "       }\n",
    "sum = 0\n",
    "for i in data:\n",
    "    sum = sum + data[i]\n",
    "print(\"Total sum of values in the dictionary:\")   \n",
    "print(sum)\n"
   ]
  },
  {
   "cell_type": "markdown",
   "metadata": {},
   "source": [
    "# Task 6\n",
    "#### python program to multiply all the items in a dictionary"
   ]
  },
  {
   "cell_type": "code",
   "execution_count": 35,
   "metadata": {},
   "outputs": [
    {
     "name": "stdout",
     "output_type": "stream",
     "text": [
      "3000\n"
     ]
    }
   ],
   "source": [
    "data = {'A': 100,\n",
    "       'B': 2,\n",
    "        'C': 5,\n",
    "        'D':3\n",
    "       }\n",
    "mul = 1\n",
    "for i in data:\n",
    "    mul = mul * data[i]\n",
    "print(mul)    "
   ]
  },
  {
   "cell_type": "markdown",
   "metadata": {},
   "source": [
    "# Task 7\n",
    "#### python program to remove the given key from a dictionary"
   ]
  },
  {
   "cell_type": "code",
   "execution_count": 2,
   "metadata": {},
   "outputs": [
    {
     "name": "stdout",
     "output_type": "stream",
     "text": [
      "case : 1\n",
      "initial dictionary {'a': 1, 'c': 3, 'b': 2, 'd': 4}\n",
      "Enter the key to delete(a-d):c\n",
      "updated dictionary: {'a': 1, 'b': 2, 'd': 4}\n",
      "case : 2\n",
      "initial dictionary {'a': 1, 'c': 3, 'b': 2, 'd': 4}\n",
      "Enter the key to delete(a-d):g\n",
      "Key not found!\n"
     ]
    }
   ],
   "source": [
    "for i in range(1,3):\n",
    "    print(\"case :\", i )\n",
    "    data = {'a':1, 'c':3,'b':2,'d':4}\n",
    "    print(\"initial dictionary\",data)\n",
    "    key = input(\"Enter the key to delete(a-d):\")\n",
    "    if(key in data.keys()):\n",
    "        data.pop(key)\n",
    "        print(\"updated dictionary:\",data)\n",
    "    else: \n",
    "        print(\"Key not found!\")\n",
    "    "
   ]
  },
  {
   "cell_type": "markdown",
   "metadata": {},
   "source": [
    "# Task 8\n",
    "#### python program to map two lists into dictionary"
   ]
  },
  {
   "cell_type": "code",
   "execution_count": 1,
   "metadata": {},
   "outputs": [
    {
     "name": "stdout",
     "output_type": "stream",
     "text": [
      "Enter number of elements for dictionary:3\n",
      "For keys:\n",
      "Enter element 1:1\n",
      "Enter element 2:2\n",
      "Enter element 3:3\n",
      "For values:\n",
      "Enter element1:4\n",
      "Enter element2:5\n",
      "Enter element3:6\n",
      "The dictionary is:\n",
      "{1: 4, 2: 5, 3: 6}\n"
     ]
    }
   ],
   "source": [
    "keys=[]\n",
    "values=[]\n",
    "n=int(input(\"Enter number of elements for dictionary:\"))\n",
    "print(\"For keys:\")\n",
    "for x in range(1,n+1):\n",
    "    element=int(input(\"Enter element \"+str(x)+ \":\"))\n",
    "    keys.append(element)\n",
    "print(\"For values:\")\n",
    "for x in range(1,n+1):\n",
    "    element=int(input(\"Enter element\"+str(x)+\":\"))\n",
    "    values.append(element)\n",
    "d=dict(zip(keys,values))\n",
    "print(\"The dictionary is:\")\n",
    "print(d)"
   ]
  },
  {
   "cell_type": "markdown",
   "metadata": {},
   "source": [
    "# Task 9\n",
    "#### python program to count the frequency of words appearing in a string using a dictionary"
   ]
  },
  {
   "cell_type": "code",
   "execution_count": 4,
   "metadata": {},
   "outputs": [
    {
     "name": "stdout",
     "output_type": "stream",
     "text": [
      "case : 1\n",
      "Enter string:hello world program hello\n",
      "['hello', 'world', 'program', 'hello']\n",
      "{'hello': 2, 'world': 1, 'program': 1}\n",
      "case : 2\n",
      "Enter string:bannana apple apple orange apple\n",
      "['bannana', 'apple', 'apple', 'orange', 'apple']\n",
      "{'bannana': 1, 'apple': 3, 'orange': 1}\n"
     ]
    }
   ],
   "source": [
    "for i in range(1,3):\n",
    "    print(\"case :\", i )\n",
    "    var1=input(\"Enter string:\")\n",
    "    list1=[]\n",
    "    list1=var1.split()\n",
    "    print(list1)\n",
    "    count_word_freq=[list1.count(i) for i in list1] # count function returns the number of times an objet occurs in the list\n",
    "    print(dict(zip(list1,count_word_freq)))"
   ]
  },
  {
   "cell_type": "markdown",
   "metadata": {},
   "source": [
    "# Task 10\n",
    "#### python program to create a dictionary with key as first character and value as words starting with that character"
   ]
  },
  {
   "cell_type": "code",
   "execution_count": 1,
   "metadata": {},
   "outputs": [
    {
     "name": "stdout",
     "output_type": "stream",
     "text": [
      "case : 1\n",
      "Enter string: hello world this is a test string sanfoundry\n",
      "['hello', 'world', 'this', 'is', 'a', 'test', 'string', 'sanfoundry']\n",
      "( ' h ' : ['hello'] )\n",
      "( ' w ' : ['world'] )\n",
      "( ' t ' : ['this', 'test'] )\n",
      "( ' i ' : ['is'] )\n",
      "( ' a ' : ['a'] )\n",
      "( ' s ' : ['string', 'sanfoundry'] )\n",
      "case : 2\n",
      "Enter string: python is my most favourite programming language in the entire world\n",
      "['python', 'is', 'my', 'most', 'favourite', 'programming', 'language', 'in', 'the', 'entire', 'world']\n",
      "( ' p ' : ['python', 'programming'] )\n",
      "( ' i ' : ['is', 'in'] )\n",
      "( ' m ' : ['my', 'most'] )\n",
      "( ' f ' : ['favourite'] )\n",
      "( ' l ' : ['language'] )\n",
      "( ' t ' : ['the'] )\n",
      "( ' e ' : ['entire'] )\n",
      "( ' w ' : ['world'] )\n"
     ]
    }
   ],
   "source": [
    "for i in range(1,3):\n",
    "    print(\"case :\", i )\n",
    "    var1 = input(\"Enter string: \")\n",
    "    data = {}\n",
    "    list1 =[]\n",
    "    list2 = []\n",
    "    list1 = var1.split()\n",
    "    print(list1)\n",
    "    for word in list1:\n",
    "\n",
    "        if(word[0] not in data.keys()):\n",
    "            data[word[0]]=[] # give key first character empty list value\n",
    "            data[word[0]].append(word) # assign value to key\n",
    "        else:\n",
    "            if(word[0] in data.keys()):\n",
    "                data[word[0]].append(word)\n",
    "   \n",
    "    for key, value in data.items():\n",
    "        print(\"(\",\"'\",key,\"'\",\":\", value,\")\")\n",
    "        "
   ]
  }
 ],
 "metadata": {
  "kernelspec": {
   "display_name": "Python 3",
   "language": "python",
   "name": "python3"
  },
  "language_info": {
   "codemirror_mode": {
    "name": "ipython",
    "version": 3
   },
   "file_extension": ".py",
   "mimetype": "text/x-python",
   "name": "python",
   "nbconvert_exporter": "python",
   "pygments_lexer": "ipython3",
   "version": "3.7.0"
  }
 },
 "nbformat": 4,
 "nbformat_minor": 2
}
