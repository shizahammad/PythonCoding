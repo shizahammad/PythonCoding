{
 "cells": [
  {
   "cell_type": "markdown",
   "metadata": {},
   "source": [
    "# \"print\" built in function"
   ]
  },
  {
   "cell_type": "code",
   "execution_count": 1,
   "metadata": {},
   "outputs": [
    {
     "name": "stdout",
     "output_type": "stream",
     "text": [
      "Hello,World!\n"
     ]
    }
   ],
   "source": [
    "print(\"Hello,World!\")"
   ]
  },
  {
   "cell_type": "code",
   "execution_count": 4,
   "metadata": {},
   "outputs": [
    {
     "name": "stdout",
     "output_type": "stream",
     "text": [
      "2\n",
      "2\n"
     ]
    }
   ],
   "source": [
    "print(2)\n",
    "print('2')"
   ]
  },
  {
   "cell_type": "markdown",
   "metadata": {},
   "source": [
    "# Creating String Variables"
   ]
  },
  {
   "cell_type": "code",
   "execution_count": 17,
   "metadata": {},
   "outputs": [
    {
     "name": "stdout",
     "output_type": "stream",
     "text": [
      "shiza\n",
      "my name is\n",
      "shiza hammad\n"
     ]
    }
   ],
   "source": [
    "name = \"shiza\"\n",
    "# triple quotes can be used for muliple lines of string\n",
    "name1 = \"\"\"my name is\n",
    "shiza hammad\"\"\" \n",
    "print(name)\n",
    "print(name1)"
   ]
  },
  {
   "cell_type": "code",
   "execution_count": 16,
   "metadata": {},
   "outputs": [
    {
     "name": "stdout",
     "output_type": "stream",
     "text": [
      "Name is: shiza\n",
      "Father name is : Hammad Saleem\n",
      "University: Arid\n"
     ]
    }
   ],
   "source": [
    "name = \"iqra\"\n",
    "name = \"shiza\"\n",
    "father_name = \"Hammad Saleem\"\n",
    "university = \"Arid\"\n",
    "print(\"Name is:\", name)\n",
    "print(\"Father name is :\", father_name)\n",
    "print(\"University:\",university)"
   ]
  },
  {
   "cell_type": "markdown",
   "metadata": {},
   "source": [
    "# Variables for numbers"
   ]
  },
  {
   "cell_type": "code",
   "execution_count": 13,
   "metadata": {},
   "outputs": [
    {
     "name": "stdout",
     "output_type": "stream",
     "text": [
      "62.5\n"
     ]
    }
   ],
   "source": [
    "weight = 25\n",
    "multiplier = 2.5\n",
    "print(weight*2.5)"
   ]
  },
  {
   "cell_type": "code",
   "execution_count": 18,
   "metadata": {},
   "outputs": [
    {
     "name": "stdout",
     "output_type": "stream",
     "text": [
      "37\n"
     ]
    }
   ],
   "source": [
    "number = 12\n",
    "new_num = number + 25\n",
    "print(new_num)"
   ]
  },
  {
   "cell_type": "code",
   "execution_count": 21,
   "metadata": {},
   "outputs": [
    {
     "name": "stdout",
     "output_type": "stream",
     "text": [
      "33\n"
     ]
    }
   ],
   "source": [
    "num1 = 23\n",
    "num2 = 10\n",
    "num = num1 + num2\n",
    "print(num)"
   ]
  },
  {
   "cell_type": "markdown",
   "metadata": {},
   "source": [
    "# Math expressions : Familiar operators"
   ]
  },
  {
   "cell_type": "code",
   "execution_count": 23,
   "metadata": {},
   "outputs": [
    {
     "name": "stdout",
     "output_type": "stream",
     "text": [
      "-12\n",
      "24\n"
     ]
    }
   ],
   "source": [
    "loss = 12 -24\n",
    "print(loss)\n",
    "dozens = 2 * 12\n",
    "print(dozens)"
   ]
  }
 ],
 "metadata": {
  "kernelspec": {
   "display_name": "Python 3",
   "language": "python",
   "name": "python3"
  },
  "language_info": {
   "codemirror_mode": {
    "name": "ipython",
    "version": 3
   },
   "file_extension": ".py",
   "mimetype": "text/x-python",
   "name": "python",
   "nbconvert_exporter": "python",
   "pygments_lexer": "ipython3",
   "version": "3.7.0"
  }
 },
 "nbformat": 4,
 "nbformat_minor": 2
}
