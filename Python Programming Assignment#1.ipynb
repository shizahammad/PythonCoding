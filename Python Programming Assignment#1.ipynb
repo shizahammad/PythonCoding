{
 "cells": [
  {
   "cell_type": "markdown",
   "metadata": {},
   "source": [
    "# Quater 1\n",
    "### Shiza Hammad"
   ]
  },
  {
   "cell_type": "markdown",
   "metadata": {},
   "source": [
    "# 1. Calculate Area of a Circle"
   ]
  },
  {
   "cell_type": "code",
   "execution_count": null,
   "metadata": {},
   "outputs": [],
   "source": [
    "import math\n",
    "radius = float(input(\"Input radius :\"))\n",
    "Area = math.pi * radius**2\n",
    "print(\"Area of Circle with radius \"+ str(radius) + \"is \" + str(Area))\n"
   ]
  },
  {
   "cell_type": "markdown",
   "metadata": {},
   "source": [
    "# 2. Check Number either positive, negative or zero"
   ]
  },
  {
   "cell_type": "code",
   "execution_count": null,
   "metadata": {},
   "outputs": [],
   "source": [
    "Flag = \"r\"\n",
    "while(Flag != \"q\"):\n",
    "    num = int(input(\"Enter number :\"))\n",
    "    if num == 0:\n",
    "        print(\"Zero Entered\")\n",
    "    elif num > 0:\n",
    "        print(\"Positive Number Entered\")\n",
    "    else:\n",
    "        if num < 0:\n",
    "            print(\"Negative Number Entered\")\n",
    "    Flag = input(\"To stop press q :\")\n"
   ]
  },
  {
   "cell_type": "markdown",
   "metadata": {},
   "source": [
    "# 3. Divisibility Check of two numbers"
   ]
  },
  {
   "cell_type": "code",
   "execution_count": null,
   "metadata": {},
   "outputs": [],
   "source": [
    "for i in range(0,2):\n",
    "    print(\"case\",i)\n",
    "    num1 = int(input(\"Enter Nominator :\"))\n",
    "    num2 = int(input(\"Enter Denominator:\"))\n",
    "    if num1%num2 == 0:\n",
    "        print(\"Number  \"+str(num1)+\" is Completely divisible by  \"+ str(num2))\n",
    "    else:\n",
    "        print(\"Number  \" +str(num1)+\"is not Completely divisible by  \"+ str(num2))\n",
    "        "
   ]
  },
  {
   "cell_type": "markdown",
   "metadata": {},
   "source": [
    "# 4. Days Calculator"
   ]
  },
  {
   "cell_type": "code",
   "execution_count": null,
   "metadata": {},
   "outputs": [],
   "source": [
    "import datetime\n",
    "x = input(\"Enter first date in Y,m,d format:\")\n",
    "y = input(\"Enter second date in Y,m,d format:\")\n",
    "a = datetime.datetime.strptime(x,\"%Y/%m/%d\")\n",
    "b = datetime.datetime.strptime(y,\"%Y/%m/%d\")\n",
    "(b-a).days"
   ]
  },
  {
   "cell_type": "markdown",
   "metadata": {},
   "source": [
    "# 5. Calculate Volume of a sphere"
   ]
  },
  {
   "cell_type": "code",
   "execution_count": null,
   "metadata": {},
   "outputs": [],
   "source": [
    "import math\n",
    "radius = int(input(\"Enter Radius of Sphere: \"))\n",
    "V = (4/3)*math.pi*radius**3\n",
    "print(\"Volume of the Sphere with Radius  \"+str(radius) + \"  is  \"+ str(V))"
   ]
  },
  {
   "cell_type": "markdown",
   "metadata": {},
   "source": [
    "# 6. Copy string n times"
   ]
  },
  {
   "cell_type": "code",
   "execution_count": null,
   "metadata": {},
   "outputs": [],
   "source": [
    "string = input(\"Enter string :\")\n",
    "n = int(input(\"how many copies of string you need: \"))\n",
    "print(str(n) +\" copies of \"+str(string)+\" are: \")\n",
    "for i in range(0,n):\n",
    "    print(string, end = \"\")"
   ]
  },
  {
   "cell_type": "markdown",
   "metadata": {},
   "source": [
    "# 7. Check if number is Even or Odd"
   ]
  },
  {
   "cell_type": "code",
   "execution_count": null,
   "metadata": {},
   "outputs": [],
   "source": [
    "for i in range(0,2):\n",
    "    num = int(input(\"Enter number:\"))\n",
    "    if (num%2 == 0):\n",
    "        print(str(num)+ \" is even\")\n",
    "    else:\n",
    "        print(str(num) +\" is odd\")"
   ]
  },
  {
   "cell_type": "markdown",
   "metadata": {},
   "source": [
    "# 8. Vowel Tester"
   ]
  },
  {
   "cell_type": "code",
   "execution_count": null,
   "metadata": {},
   "outputs": [],
   "source": [
    "for i in range(0,3):\n",
    "    vowels = [\"a\",\"e\",\"i\",\"o\",\"u\",\"A\",\"E\",\"I\", \"O\",\"U\"]\n",
    "    user_v = input(\"Enter vowel: \")\n",
    "    for i in range(len(vowels)):\n",
    "        if (user_v in vowels):\n",
    "            print(\"Letter \"+ str(user_v) + \" is a vowel\")\n",
    "            break\n",
    "        else:\n",
    "            print(\"Letter \"+ str(user_v) + \" is not a vowel\")\n",
    "            break"
   ]
  },
  {
   "cell_type": "markdown",
   "metadata": {},
   "source": [
    "# 9. Triangle area"
   ]
  },
  {
   "cell_type": "code",
   "execution_count": null,
   "metadata": {},
   "outputs": [],
   "source": [
    "b = int(input(\"Enter magnitude of Triangle base:\"))\n",
    "h = int(input(\"Enter Magnitude of Triangle Height\"))\n",
    "Area_t = (b*h)/2\n",
    "print(\"Area of a Triangle with Height \"+str(h)+\" and Base \" +str(b)+\" is \" +str(Area_t))"
   ]
  },
  {
   "cell_type": "markdown",
   "metadata": {},
   "source": [
    "# 10. Calculate Interest"
   ]
  },
  {
   "cell_type": "code",
   "execution_count": null,
   "metadata": {},
   "outputs": [],
   "source": [
    "p_amount= int(input(\"Please enter principal amount:\"))\n",
    "intrest= float(input(\"Please Enter Rate of interest in %:\"))\n",
    "years = int(input(\"Enter number of years for investment:\"))\n",
    "F_V = p_amount*(1 + intrest*years)\n",
    "print(\"After \" +str(years)+ \" years your principal amount \"+str(p_amount)+ \" over an interest rate of \" +str(intrest)+\"  % will be \"+ str(F_V))"
   ]
  },
  {
   "cell_type": "markdown",
   "metadata": {},
   "source": [
    "# 11. Euclidean distance"
   ]
  },
  {
   "cell_type": "code",
   "execution_count": 11,
   "metadata": {},
   "outputs": [
    {
     "name": "stdout",
     "output_type": "stream",
     "text": [
      "Enter Co-ordinate for x1:2\n",
      "Enter Co-ordinate for x2:4\n",
      "Enter Co-ordinate for y1:4\n",
      "Enter Co-ordinate for y2:4\n",
      "Distance between points(2,4)and(4,4)is  2\n"
     ]
    }
   ],
   "source": [
    "import math \n",
    "x1 = int(input(\"Enter Co-ordinate for x1:\"))\n",
    "x2 = int(input(\"Enter Co-ordinate for x2:\"))\n",
    "y1 = int(input(\"Enter Co-ordinate for y1:\"))\n",
    "y2 = int(input(\"Enter Co-ordinate for y2:\"))\n",
    "ed = math.sqrt((y1-x1)**2+(y2-x2)**2)\n",
    "print(\"Distance between points\"+\"(\"+str(x1)+\",\"+str(x2)+\")\"+\"and\"+\"(\"+str(y1)+\",\"+str(y2)+\")\"+\"is  \"+str(int(ed)))"
   ]
  },
  {
   "cell_type": "markdown",
   "metadata": {},
   "source": [
    "# 12. Feet to Centimeter Converter"
   ]
  },
  {
   "cell_type": "code",
   "execution_count": 16,
   "metadata": {},
   "outputs": [
    {
     "name": "stdout",
     "output_type": "stream",
     "text": [
      "Enter Height in Feet:5\n",
      "There are 152.4Cm in 5ft\n"
     ]
    }
   ],
   "source": [
    "feet = int(input(\"Enter Height in Feet:\"))\n",
    "cm = feet * 30.48\n",
    "print(\"There are \" +str(cm) +\"Cm in \"+str(feet)+\"ft\")"
   ]
  },
  {
   "cell_type": "markdown",
   "metadata": {},
   "source": [
    "# 13. BMI Calculator"
   ]
  },
  {
   "cell_type": "code",
   "execution_count": 24,
   "metadata": {},
   "outputs": [
    {
     "name": "stdout",
     "output_type": "stream",
     "text": [
      "Enter Height in Cm:180\n",
      "Enter Weight in Kg:75\n",
      "Your BMI is 23.15 \n"
     ]
    }
   ],
   "source": [
    "#Write a Python program to calculate body mass index\n",
    "height = int(input(\"Enter Height in Cm:\"))\n",
    "weight = int(input(\"Enter Weight in Kg:\"))\n",
    "#first we need to covert height from cm to metres\n",
    "metres = height/100\n",
    "# calculate bmi\n",
    "bmi = weight / (metres*metres)\n",
    "print(f\"Your BMI is {bmi:.2f} \")"
   ]
  },
  {
   "cell_type": "markdown",
   "metadata": {},
   "source": [
    "# 14. Sum of n Positive Integers"
   ]
  },
  {
   "cell_type": "code",
   "execution_count": 31,
   "metadata": {},
   "outputs": [
    {
     "name": "stdout",
     "output_type": "stream",
     "text": [
      "Enter value of n:5\n",
      "Sum of n Positive integers till  5   is  15\n"
     ]
    }
   ],
   "source": [
    "n_sum = 0\n",
    "n = int(input(\"Enter value of n:\"))\n",
    "if (n < 0):\n",
    "    print(\"You entered a negative integer\")\n",
    "else:\n",
    "    for i in range(1,1+n):\n",
    "        n_sum = n_sum+i\n",
    "    \n",
    "print(\"Sum of n Positive integers till  \"+ str(n) + \"   is  \" +str(n_sum))"
   ]
  },
  {
   "cell_type": "markdown",
   "metadata": {},
   "source": [
    "# 15. Digits Sum of a Number"
   ]
  },
  {
   "cell_type": "code",
   "execution_count": 1,
   "metadata": {},
   "outputs": [
    {
     "name": "stdout",
     "output_type": "stream",
     "text": [
      "Enter a number:15\n",
      "the sum of digit is: 6\n",
      "Enter a number:1234\n",
      "the sum of digit is: 10\n"
     ]
    }
   ],
   "source": [
    "for a in range(2):\n",
    "    d_sum = 0\n",
    "    n = input(\"Enter a number:\")\n",
    "    for i in n:\n",
    "        #print(i)\n",
    "        d_sum = d_sum + int(i)\n",
    "    print(\"the sum of digit is:\",d_sum)"
   ]
  },
  {
   "cell_type": "markdown",
   "metadata": {},
   "source": [
    "# 16. Decimal to Binary Converter"
   ]
  },
  {
   "cell_type": "code",
   "execution_count": 1,
   "metadata": {},
   "outputs": [
    {
     "name": "stdout",
     "output_type": "stream",
     "text": [
      "Enter a decimal number:13\n",
      "Binary representation is:\n",
      "1101\n",
      "\n",
      "Enter a decimal number:174\n",
      "Binary representation is:\n",
      "10101110\n",
      "\n",
      "Enter a decimal number:32\n",
      "Binary representation is:\n",
      "100000\n",
      "\n",
      "Enter a decimal number:5\n",
      "Binary representation is:\n",
      "101\n",
      "\n"
     ]
    }
   ],
   "source": [
    "#Write a Python program to convert an decimal integer to binary\n",
    "\n",
    "\n",
    "def func(dec_num):\n",
    "    if(dec_num == 0):\n",
    "        return 0\n",
    "    else:\n",
    "        #print(dec_num)\n",
    "        func(dec_num//2)\n",
    "        print(str(dec_num%2)[::-1],end=\"\")\n",
    "for i in range (4):\n",
    "    dec_num = int(input(\"Enter a decimal number:\"))\n",
    "    print(\"Binary representation is:\")\n",
    "    func(dec_num)  \n",
    "    print(\"\\n\")\n",
    "   "
   ]
  },
  {
   "cell_type": "markdown",
   "metadata": {},
   "source": [
    "# 17. Binary to Decimal Converter"
   ]
  },
  {
   "cell_type": "code",
   "execution_count": 21,
   "metadata": {},
   "outputs": [
    {
     "name": "stdout",
     "output_type": "stream",
     "text": [
      "Enter a Binary number:1101\n",
      "Decimal Representation of 1101 is 13\n"
     ]
    }
   ],
   "source": [
    "# Write a program to convert binary number to Decimal number\n",
    "binary = 0\n",
    "b_to_d = input(\"Enter a Binary number:\")\n",
    "for i in range(0,len(b_to_d)):\n",
    "    binary += int(b_to_d[::-1][i])*(2**i)\n",
    "print(\"Decimal Representation of \"+ str(b_to_d) +\" is \"+ str(binary))"
   ]
  },
  {
   "cell_type": "markdown",
   "metadata": {},
   "source": [
    "# 18. Vowel and Consonants Counter"
   ]
  },
  {
   "cell_type": "code",
   "execution_count": 4,
   "metadata": {},
   "outputs": [
    {
     "name": "stdout",
     "output_type": "stream",
     "text": [
      "Enter text:QuickBrownFoxJumpsovertheDog\n",
      "Vowels: 9\n",
      "Consonants: 19\n"
     ]
    }
   ],
   "source": [
    "# Input a text and count the occurrences of vowels and consonant\n",
    "v_count = 0\n",
    "c_count = 0\n",
    "letters = input(\"Enter text:\")\n",
    "vowel = ['A','a','E','e','I','i','O','o','U','u']\n",
    "#consonants = ['B','b','C','c','D','d','F','f','G','g','H','h','J','j','K','k','L','l','M','m','N','n','P','p','Q','q','R','r','S','s','T','t','V','v','W','w','X','x','Y','Z','z']\n",
    "for i in letters:\n",
    "    if i in vowel:\n",
    "        v_count+=1\n",
    "    else:\n",
    "        c_count+=1\n",
    "print(\"Vowels:\",v_count)    \n",
    "print(\"Consonants:\",c_count)\n",
    "    \n"
   ]
  },
  {
   "cell_type": "markdown",
   "metadata": {},
   "source": [
    "# 19. Palindrome tester"
   ]
  },
  {
   "cell_type": "code",
   "execution_count": 2,
   "metadata": {},
   "outputs": [
    {
     "name": "stdout",
     "output_type": "stream",
     "text": [
      "Enter text:AHA\n",
      "Text AHA is palindrome\n",
      "Enter text:Hello\n",
      "Text Hello is not palindrome\n"
     ]
    }
   ],
   "source": [
    "import math\n",
    "# Write a program to check whether given input is palindrome or not\n",
    "for sample in range(0,2):\n",
    "    palindrome_string = input(\"Enter text:\")\n",
    "    if len(palindrome_string)==1:\n",
    "        print(\"is a palindrome\")\n",
    "    else:\n",
    "        mid = len(palindrome_string)/2\n",
    "        mid = math.floor(mid)\n",
    "        start = palindrome_string[0:mid]\n",
    "        end = palindrome_string[mid:len(palindrome_string)]\n",
    "        i = 0\n",
    "        j = -1\n",
    "        for check in range(0,mid):\n",
    "\n",
    "            if start[i]!=end[j]:\n",
    "                print(\"Text \"+ palindrome_string +\" is not palindrome\")\n",
    "                break\n",
    "            else:\n",
    "                if check == mid-1:\n",
    "                    start[i]==end[j]\n",
    "                    print(\"Text \"+palindrome_string +\" is palindrome\")\n",
    "            i+=1\n",
    "            j-=1\n"
   ]
  },
  {
   "cell_type": "markdown",
   "metadata": {},
   "source": [
    "# 20. Count Alphabets, Numbers and Special Characters"
   ]
  },
  {
   "cell_type": "code",
   "execution_count": 11,
   "metadata": {},
   "outputs": [
    {
     "name": "stdout",
     "output_type": "stream",
     "text": [
      "Enter text:Python 3.2\n",
      "Alphabets: 6\n",
      "Digits: 2\n",
      "Special characters: 1\n",
      "Spaces: 1\n"
     ]
    }
   ],
   "source": [
    "#Write a Python program that accepts a string and calculate the number of digits and letters\n",
    "alpha = 0\n",
    "digit = 0\n",
    "special = 0\n",
    "space = 0\n",
    "t = input(\"Enter text:\")\n",
    "for i in range(0,len(t)):\n",
    "    if t[i].isalpha():\n",
    "        alpha+=1\n",
    "    elif t[i].isdigit():\n",
    "        digit+=1\n",
    "    elif t[i] ==\" \":\n",
    "         space+=1\n",
    "    else:\n",
    "        special+=1\n",
    "print(\"Alphabets:\",alpha)\n",
    "print(\"Digits:\",digit)\n",
    "print(\"Special characters:\",special)\n",
    "print(\"Spaces:\",space)"
   ]
  },
  {
   "cell_type": "markdown",
   "metadata": {},
   "source": [
    "# 23. Write a Python program to construct the following pattern"
   ]
  },
  {
   "cell_type": "code",
   "execution_count": 32,
   "metadata": {},
   "outputs": [
    {
     "name": "stdout",
     "output_type": "stream",
     "text": [
      "1\n",
      "22\n",
      "333\n",
      "4444\n",
      "55555\n",
      "666666\n",
      "7777777\n",
      "88888888\n",
      "999999999\n"
     ]
    }
   ],
   "source": [
    "for j in range(1,10):\n",
    "    print(j*str(j))\n"
   ]
  },
  {
   "cell_type": "markdown",
   "metadata": {},
   "source": [
    "# 22. Write a Python program to construct the following pattern"
   ]
  },
  {
   "cell_type": "code",
   "execution_count": 49,
   "metadata": {},
   "outputs": [
    {
     "name": "stdout",
     "output_type": "stream",
     "text": [
      "\n",
      "\n",
      "1\n",
      "12\n",
      "123\n",
      "1234\n",
      "12345\n",
      "1234\n",
      "123\n",
      "12\n",
      "1"
     ]
    }
   ],
   "source": [
    "max =1\n",
    "for i in range(1,6):\n",
    "    print(\"\")\n",
    "    for j in range(1,max):\n",
    "        print(j, end=\"\")\n",
    "    max+=1\n",
    "min=6\n",
    "for i in range(1,6):\n",
    "    print(\"\")\n",
    "    for j in range(1,min):\n",
    "        print(j, end=\"\")\n",
    "    min-=1"
   ]
  },
  {
   "cell_type": "markdown",
   "metadata": {},
   "source": [
    "# 21. Write a Python program to construct the following pattern"
   ]
  },
  {
   "cell_type": "code",
   "execution_count": 50,
   "metadata": {},
   "outputs": [
    {
     "name": "stdout",
     "output_type": "stream",
     "text": [
      "\n",
      "\n",
      "*\n",
      "**\n",
      "***\n",
      "****\n",
      "*****\n",
      "****\n",
      "***\n",
      "**\n",
      "*"
     ]
    }
   ],
   "source": [
    "max =1\n",
    "for i in range(1,6):\n",
    "    print(\"\")\n",
    "    for j in range(1,max):\n",
    "        print(\"*\", end=\"\")\n",
    "    max+=1\n",
    "min=6\n",
    "for i in range(1,6):\n",
    "    print(\"\")\n",
    "    for j in range(1,min):\n",
    "        print(\"*\", end=\"\")\n",
    "    min-=1"
   ]
  }
 ],
 "metadata": {
  "kernelspec": {
   "display_name": "Python 3",
   "language": "python",
   "name": "python3"
  },
  "language_info": {
   "codemirror_mode": {
    "name": "ipython",
    "version": 3
   },
   "file_extension": ".py",
   "mimetype": "text/x-python",
   "name": "python",
   "nbconvert_exporter": "python",
   "pygments_lexer": "ipython3",
   "version": "3.7.0"
  }
 },
 "nbformat": 4,
 "nbformat_minor": 2
}
