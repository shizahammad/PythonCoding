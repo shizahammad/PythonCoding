{
 "cells": [
  {
   "cell_type": "markdown",
   "metadata": {},
   "source": [
    "# For loop"
   ]
  },
  {
   "cell_type": "code",
   "execution_count": 2,
   "metadata": {},
   "outputs": [
    {
     "name": "stdout",
     "output_type": "stream",
     "text": [
      "1 1\n",
      "1 2\n",
      "1 3\n",
      "1 4\n",
      "2 1\n",
      "2 2\n",
      "2 3\n",
      "2 4\n",
      "3 1\n",
      "3 2\n",
      "3 3\n",
      "3 4\n",
      "4 1\n",
      "4 2\n",
      "4 3\n",
      "4 4\n",
      "5 1\n",
      "5 2\n",
      "5 3\n",
      "5 4\n",
      "6 1\n",
      "6 2\n",
      "6 3\n",
      "6 4\n",
      "7 1\n",
      "7 2\n",
      "7 3\n",
      "7 4\n",
      "8 1\n",
      "8 2\n",
      "8 3\n",
      "8 4\n",
      "9 1\n",
      "9 2\n",
      "9 3\n",
      "9 4\n",
      "10 1\n",
      "10 2\n",
      "10 3\n",
      "10 4\n"
     ]
    }
   ],
   "source": [
    "for i in range(1,11):\n",
    "    for j in range(1,5):\n",
    "        print(i,j)"
   ]
  },
  {
   "cell_type": "code",
   "execution_count": 3,
   "metadata": {},
   "outputs": [
    {
     "name": "stdout",
     "output_type": "stream",
     "text": [
      "2 x  1  =  2 \n",
      "\n",
      "2 x  2  =  4 \n",
      "\n",
      "2 x  3  =  6 \n",
      "\n",
      "2 x  4  =  8 \n",
      "\n",
      "2 x  5  =  10 \n",
      "\n",
      "2 x  6  =  12 \n",
      "\n",
      "2 x  7  =  14 \n",
      "\n",
      "2 x  8  =  16 \n",
      "\n",
      "2 x  9  =  18 \n",
      "\n",
      "2 x  10  =  20 \n",
      "\n"
     ]
    }
   ],
   "source": [
    "for i in range(1,11):\n",
    "    print(\"2 x \",i,\" = \",2*i,\"\\n\")"
   ]
  },
  {
   "cell_type": "code",
   "execution_count": 4,
   "metadata": {},
   "outputs": [
    {
     "name": "stdout",
     "output_type": "stream",
     "text": [
      "Enter no. of tables required: 2\n",
      "\n",
      "\n",
      "1 x 1 = 1\t2 x 1 = 2\t\n",
      "\n",
      "1 x 2 = 2\t2 x 2 = 4\t\n",
      "\n",
      "1 x 3 = 3\t2 x 3 = 6\t\n",
      "\n",
      "1 x 4 = 4\t2 x 4 = 8\t\n",
      "\n",
      "1 x 5 = 5\t2 x 5 = 10\t\n",
      "\n",
      "1 x 6 = 6\t2 x 6 = 12\t\n",
      "\n",
      "1 x 7 = 7\t2 x 7 = 14\t\n",
      "\n",
      "1 x 8 = 8\t2 x 8 = 16\t\n",
      "\n",
      "1 x 9 = 9\t2 x 9 = 18\t\n",
      "\n",
      "1 x 10 = 10\t2 x 10 = 20\t"
     ]
    }
   ],
   "source": [
    "var1 = int(input(\"Enter no. of tables required: \"))\n",
    "for i in range(1,11):\n",
    "    print(\"\\n\")\n",
    "    for j in range(1,var1+1):\n",
    "        print(j, \"x\", i, \"=\", j*i, end= \"\\t\")"
   ]
  },
  {
   "cell_type": "code",
   "execution_count": 5,
   "metadata": {},
   "outputs": [
    {
     "name": "stdout",
     "output_type": "stream",
     "text": [
      "Enter no. of tables required: 2\n",
      "1 x 1 = 1 \n",
      "\n",
      "1 x 2 = 2 \n",
      "\n",
      "1 x 3 = 3 \n",
      "\n",
      "1 x 4 = 4 \n",
      "\n",
      "1 x 5 = 5 \n",
      "\n",
      "1 x 6 = 6 \n",
      "\n",
      "1 x 7 = 7 \n",
      "\n",
      "1 x 8 = 8 \n",
      "\n",
      "1 x 9 = 9 \n",
      "\n",
      "1 x 10 = 10 \n",
      "\n",
      "2 x 1 = 2 \n",
      "\n",
      "2 x 2 = 4 \n",
      "\n",
      "2 x 3 = 6 \n",
      "\n",
      "2 x 4 = 8 \n",
      "\n",
      "2 x 5 = 10 \n",
      "\n",
      "2 x 6 = 12 \n",
      "\n",
      "2 x 7 = 14 \n",
      "\n",
      "2 x 8 = 16 \n",
      "\n",
      "2 x 9 = 18 \n",
      "\n",
      "2 x 10 = 20 \n",
      "\n"
     ]
    }
   ],
   "source": [
    "var1 = int(input(\"Enter no. of tables required: \"))\n",
    "for j in range(1,var1+1):\n",
    "    for i in range(1,11):\n",
    "        print(j, \"x\", i, \"=\", j*i, \"\\n\")"
   ]
  },
  {
   "cell_type": "markdown",
   "metadata": {},
   "source": [
    "# While loop"
   ]
  },
  {
   "cell_type": "code",
   "execution_count": 6,
   "metadata": {},
   "outputs": [
    {
     "name": "stdout",
     "output_type": "stream",
     "text": [
      "0\n",
      "1\n",
      "2\n",
      "3\n",
      "4\n",
      "5\n",
      "6\n",
      "7\n",
      "8\n",
      "9\n"
     ]
    }
   ],
   "source": [
    "i = 0\n",
    "while(i< 10):\n",
    "    print(i)\n",
    "    i+=1       "
   ]
  },
  {
   "cell_type": "markdown",
   "metadata": {},
   "source": [
    "# Dictionary\n",
    "##### Dictionary is an unordered collection of key-value pairs. Dictionaries are used to handle large amount of data.\n",
    "##### When you are dealing with unique keys and you are mapping values to the keys, use Dictionary."
   ]
  },
  {
   "cell_type": "code",
   "execution_count": 2,
   "metadata": {},
   "outputs": [
    {
     "name": "stdout",
     "output_type": "stream",
     "text": [
      "Ali\n"
     ]
    }
   ],
   "source": [
    "data = { \"name\": \"Ali\",\n",
    "       \"marks\":85,\n",
    "       \"age\":21,\n",
    "       \"class\":\"3rd year\"}\n",
    "print(data[\"name\"])"
   ]
  },
  {
   "cell_type": "code",
   "execution_count": 4,
   "metadata": {},
   "outputs": [
    {
     "name": "stdout",
     "output_type": "stream",
     "text": [
      "{'name': 'Ali', 'marks': 85, 'age': 21, 'class': '3rd year'}\n"
     ]
    }
   ],
   "source": [
    "print(data)"
   ]
  },
  {
   "cell_type": "code",
   "execution_count": 5,
   "metadata": {},
   "outputs": [],
   "source": [
    "data.clear() # to remove or empty dictionary"
   ]
  },
  {
   "cell_type": "code",
   "execution_count": 6,
   "metadata": {},
   "outputs": [
    {
     "name": "stdout",
     "output_type": "stream",
     "text": [
      "{}\n"
     ]
    }
   ],
   "source": [
    "print(data)"
   ]
  },
  {
   "cell_type": "code",
   "execution_count": 7,
   "metadata": {},
   "outputs": [
    {
     "name": "stdout",
     "output_type": "stream",
     "text": [
      "enter nameshiza\n",
      "{'school': 'islamabad', 'name': 'shiza'}\n"
     ]
    }
   ],
   "source": [
    "data[\"school\"]=\"islamabad\"\n",
    "name = input(\"enter name\")\n",
    "data[\"name\"]=name\n",
    "print(data)"
   ]
  },
  {
   "cell_type": "code",
   "execution_count": 9,
   "metadata": {},
   "outputs": [
    {
     "name": "stdout",
     "output_type": "stream",
     "text": [
      "enter nameiqra\n",
      "enter age23\n",
      "{'name': 'iqra', 'age': 23}\n"
     ]
    }
   ],
   "source": [
    "data = {}\n",
    "name= input(\"enter name\")\n",
    "age = int(input(\"enter age\"))\n",
    "data[\"name\"]=name\n",
    "data[\"age\"]=age\n",
    "print(data)"
   ]
  },
  {
   "cell_type": "markdown",
   "metadata": {},
   "source": [
    "# Input multiple values from user and convert to list"
   ]
  },
  {
   "cell_type": "code",
   "execution_count": 12,
   "metadata": {},
   "outputs": [
    {
     "name": "stdout",
     "output_type": "stream",
     "text": [
      "enter your skills: c#,C++,python\n",
      "['c#', 'C++', 'python']\n"
     ]
    }
   ],
   "source": [
    "skills = input(\"enter your skills: \")\n",
    "print(skills.split(\",\"))"
   ]
  },
  {
   "cell_type": "markdown",
   "metadata": {},
   "source": [
    "# Using fromkeys method\n",
    "##### fromkeys method is used to create keys for an empty dictionary with None or given values"
   ]
  },
  {
   "cell_type": "code",
   "execution_count": 13,
   "metadata": {},
   "outputs": [
    {
     "data": {
      "text/plain": [
       "{'name': None, 'age': None, 'class': None}"
      ]
     },
     "execution_count": 13,
     "metadata": {},
     "output_type": "execute_result"
    }
   ],
   "source": [
    "data = {}\n",
    "data.fromkeys([\"name\",\"age\",\"class\"])"
   ]
  },
  {
   "cell_type": "code",
   "execution_count": 15,
   "metadata": {},
   "outputs": [
    {
     "data": {
      "text/plain": [
       "{'name': 'Ali'}"
      ]
     },
     "execution_count": 15,
     "metadata": {},
     "output_type": "execute_result"
    }
   ],
   "source": [
    "data[\"name\"]=\"Ali\"\n",
    "data"
   ]
  },
  {
   "cell_type": "markdown",
   "metadata": {},
   "source": [
    "# Enter keys from user by entering key name and separating with comma then use split() function and they fromkeys() funcion"
   ]
  },
  {
   "cell_type": "code",
   "execution_count": 19,
   "metadata": {},
   "outputs": [
    {
     "name": "stdout",
     "output_type": "stream",
     "text": [
      "key names :name,age\n"
     ]
    },
    {
     "data": {
      "text/plain": [
       "{'name': None, 'age': None}"
      ]
     },
     "execution_count": 19,
     "metadata": {},
     "output_type": "execute_result"
    }
   ],
   "source": [
    "keys = input(\"key names :\")\n",
    "keys = keys.split(\",\")\n",
    "data.fromkeys(keys)"
   ]
  },
  {
   "cell_type": "code",
   "execution_count": 21,
   "metadata": {},
   "outputs": [
    {
     "data": {
      "text/plain": [
       "{'name': 'maria', 'age': 24}"
      ]
     },
     "execution_count": 21,
     "metadata": {},
     "output_type": "execute_result"
    }
   ],
   "source": [
    "data[\"name\"]=\"maria\"\n",
    "data[\"age\"]=24\n",
    "data"
   ]
  },
  {
   "cell_type": "markdown",
   "metadata": {},
   "source": [
    "# using get() function to get value of a key"
   ]
  },
  {
   "cell_type": "code",
   "execution_count": 22,
   "metadata": {},
   "outputs": [
    {
     "data": {
      "text/plain": [
       "'maria'"
      ]
     },
     "execution_count": 22,
     "metadata": {},
     "output_type": "execute_result"
    }
   ],
   "source": [
    "data.get(\"name\")"
   ]
  },
  {
   "cell_type": "markdown",
   "metadata": {},
   "source": [
    "# using items, keys and value functions"
   ]
  },
  {
   "cell_type": "code",
   "execution_count": 24,
   "metadata": {},
   "outputs": [
    {
     "data": {
      "text/plain": [
       "dict_items([('name', 'maria'), ('age', 24)])"
      ]
     },
     "execution_count": 24,
     "metadata": {},
     "output_type": "execute_result"
    }
   ],
   "source": [
    "data.items()"
   ]
  },
  {
   "cell_type": "code",
   "execution_count": 25,
   "metadata": {},
   "outputs": [
    {
     "data": {
      "text/plain": [
       "dict_keys(['name', 'age'])"
      ]
     },
     "execution_count": 25,
     "metadata": {},
     "output_type": "execute_result"
    }
   ],
   "source": [
    "data.keys()"
   ]
  },
  {
   "cell_type": "code",
   "execution_count": 26,
   "metadata": {},
   "outputs": [
    {
     "data": {
      "text/plain": [
       "dict_values(['maria', 24])"
      ]
     },
     "execution_count": 26,
     "metadata": {},
     "output_type": "execute_result"
    }
   ],
   "source": [
    "data.values()"
   ]
  },
  {
   "cell_type": "markdown",
   "metadata": {},
   "source": [
    "# using pop and popitem"
   ]
  },
  {
   "cell_type": "code",
   "execution_count": 27,
   "metadata": {},
   "outputs": [
    {
     "data": {
      "text/plain": [
       "{'age': 24}"
      ]
     },
     "execution_count": 27,
     "metadata": {},
     "output_type": "execute_result"
    }
   ],
   "source": [
    "data.pop(\"name\")\n",
    "data"
   ]
  },
  {
   "cell_type": "code",
   "execution_count": 28,
   "metadata": {},
   "outputs": [
    {
     "data": {
      "text/plain": [
       "('class', '3rd year')"
      ]
     },
     "execution_count": 28,
     "metadata": {},
     "output_type": "execute_result"
    }
   ],
   "source": [
    "data = { \"name\": \"Ali\",\n",
    "       \"marks\":85,\n",
    "       \"age\":21,\n",
    "       \"class\":\"3rd year\"}\n",
    "data.popitem() # will delete last item in dict"
   ]
  },
  {
   "cell_type": "code",
   "execution_count": 29,
   "metadata": {},
   "outputs": [
    {
     "name": "stdout",
     "output_type": "stream",
     "text": [
      "{'name': 'Ali', 'marks': 85, 'age': 21}\n"
     ]
    }
   ],
   "source": [
    "print(data)"
   ]
  },
  {
   "cell_type": "code",
   "execution_count": 31,
   "metadata": {},
   "outputs": [
    {
     "data": {
      "text/plain": [
       "{'name': 'Ali', 'marks': 85, 'age': 21, 'class': None}"
      ]
     },
     "execution_count": 31,
     "metadata": {},
     "output_type": "execute_result"
    }
   ],
   "source": [
    "data.setdefault(\"class\") # it will either return value of key or add it to dict if it doesnt exist\n",
    "data"
   ]
  },
  {
   "cell_type": "code",
   "execution_count": 33,
   "metadata": {},
   "outputs": [
    {
     "data": {
      "text/plain": [
       "{'name': 'Ali', 'marks': 85, 'age': 7, 'class': None}"
      ]
     },
     "execution_count": 33,
     "metadata": {},
     "output_type": "execute_result"
    }
   ],
   "source": [
    "data.update({'age': 7})\n",
    "data"
   ]
  },
  {
   "cell_type": "code",
   "execution_count": 34,
   "metadata": {},
   "outputs": [
    {
     "name": "stdout",
     "output_type": "stream",
     "text": [
      "{'name': 'Ali', 'marks': 85, 'age': 7, 'class': None, 'school': 'islamabad'}\n",
      "{'name': 'Ali', 'marks': 85, 'age': 7, 'class': None}\n"
     ]
    }
   ],
   "source": [
    "data_new = data.copy()\n",
    "data[\"school\"]=\"islamabad\"\n",
    "print(data)\n",
    "print(data_new)"
   ]
  },
  {
   "cell_type": "code",
   "execution_count": 37,
   "metadata": {},
   "outputs": [
    {
     "data": {
      "text/plain": [
       "[['a', 1, 5], ['e', 4, 8], ['b', 3, 9], ['d', 5, 2], ['c', 2, 6]]"
      ]
     },
     "execution_count": 37,
     "metadata": {},
     "output_type": "execute_result"
    }
   ],
   "source": [
    "\n",
    "l1 = [\n",
    "    # 0    1\n",
    "    [\"a\", 1, 5],\n",
    "    # 0    1\n",
    "    [\"e\", 4, 8],\n",
    "    # 0   1\n",
    "    [\"b\", 3, 9],\n",
    "    [\"d\", 5, 2],\n",
    "    [\"c\", 2, 6]\n",
    "]\n",
    "l1"
   ]
  },
  {
   "cell_type": "code",
   "execution_count": 40,
   "metadata": {},
   "outputs": [
    {
     "data": {
      "text/plain": [
       "[['a', 1, 5], ['b', 3, 9], ['c', 2, 6], ['d', 5, 2], ['e', 4, 8]]"
      ]
     },
     "execution_count": 40,
     "metadata": {},
     "output_type": "execute_result"
    }
   ],
   "source": [
    "sorted(l1)"
   ]
  },
  {
   "cell_type": "code",
   "execution_count": 41,
   "metadata": {},
   "outputs": [
    {
     "data": {
      "text/plain": [
       "[['e', 4, 8], ['d', 5, 2], ['c', 2, 6], ['b', 3, 9], ['a', 1, 5]]"
      ]
     },
     "execution_count": 41,
     "metadata": {},
     "output_type": "execute_result"
    }
   ],
   "source": [
    "sorted(l1, reverse=True)"
   ]
  },
  {
   "cell_type": "code",
   "execution_count": 43,
   "metadata": {},
   "outputs": [
    {
     "name": "stdout",
     "output_type": "stream",
     "text": [
      "[['a', 1, 5], ['c', 2, 6], ['b', 3, 9], ['e', 4, 8], ['d', 5, 2]]\n"
     ]
    }
   ],
   "source": [
    "l1.sort(key=lambda l1:l1[1])\n",
    "print(l1)"
   ]
  },
  {
   "cell_type": "markdown",
   "metadata": {},
   "source": [
    "# Convert list to dictionary\n",
    "###### You can convert 2D list with key value pair to a dictionary using dict keyword"
   ]
  },
  {
   "cell_type": "code",
   "execution_count": 44,
   "metadata": {},
   "outputs": [
    {
     "data": {
      "text/plain": [
       "{'a': 1, 'c': 2, 'b': 3, 'e': 4, 'd': 5}"
      ]
     },
     "execution_count": 44,
     "metadata": {},
     "output_type": "execute_result"
    }
   ],
   "source": [
    "l2 = [\n",
    "        [\"a\", 1],\n",
    "        [\"c\", 2],\n",
    "        [\"b\", 3],\n",
    "        [\"e\", 4],\n",
    "        [\"d\", 5]\n",
    "]\n",
    "\n",
    "\n",
    "dict(l2)"
   ]
  },
  {
   "cell_type": "code",
   "execution_count": 45,
   "metadata": {},
   "outputs": [
    {
     "data": {
      "text/plain": [
       "{'name': 'Ali',\n",
       " 'marks': 85,\n",
       " 'age': 7,\n",
       " 'class': None,\n",
       " 'school': 'islamabad',\n",
       " 'skills': ['python', 'java']}"
      ]
     },
     "execution_count": 45,
     "metadata": {},
     "output_type": "execute_result"
    }
   ],
   "source": [
    "# assign list to dict\n",
    "data[\"skills\"] = [\"python\", \"java\"]\n",
    "data"
   ]
  },
  {
   "cell_type": "code",
   "execution_count": 3,
   "metadata": {},
   "outputs": [
    {
     "name": "stdout",
     "output_type": "stream",
     "text": [
      "enter name :shiza\n",
      "enter email :shiza@gmail.com\n",
      "enter class :5\n",
      "y/n:y\n",
      "enter name :iqra\n",
      "enter email :iqra@gmail.com\n",
      "enter class :6\n",
      "y/n:n\n",
      "[{'name': 'shiza', 'email': 'shiza@gmail.com', 'class': '5'}, {'name': 'iqra', 'email': 'iqra@gmail.com', 'class': '6'}]\n"
     ]
    }
   ],
   "source": [
    "list1 = []\n",
    "data = {}\n",
    "answer = 'y'\n",
    "while(answer !='n'):\n",
    "    name = input(\"enter name :\")\n",
    "    email = input(\"enter email :\")\n",
    "    Class = input(\"enter class :\")\n",
    "    stuData ={ \"name\" :name,\n",
    "               \"email\" : email,\n",
    "               \"class\" :Class\n",
    "            }\n",
    "    list1.append(stuData)\n",
    "    answer = input(\"y/n:\")\n",
    "print(list1)"
   ]
  },
  {
   "cell_type": "code",
   "execution_count": 4,
   "metadata": {},
   "outputs": [
    {
     "name": "stdout",
     "output_type": "stream",
     "text": [
      "enter name :shiza\n",
      "enter name :shiza@gmail.com\n",
      "enter name :4\n",
      "y/n:n\n",
      "[{'name': 'shiza', 'email': 'shiza@gmail.com', 'class': '4'}]\n"
     ]
    }
   ],
   "source": [
    "list1 = []\n",
    "data = {}\n",
    "answer = 'y'\n",
    "while(answer !='n'):\n",
    "     stuData ={ \"name\" :input(\"enter name :\"),\n",
    "               \"email\" : input(\"enter name :\"),\n",
    "               \"class\" :input(\"enter name :\")\n",
    "            }\n",
    "    list1.append(stuData)\n",
    "    answer = input(\"y/n:\")\n",
    "print(list1)"
   ]
  },
  {
   "cell_type": "code",
   "execution_count": null,
   "metadata": {},
   "outputs": [],
   "source": []
  }
 ],
 "metadata": {
  "kernelspec": {
   "display_name": "Python 3",
   "language": "python",
   "name": "python3"
  },
  "language_info": {
   "codemirror_mode": {
    "name": "ipython",
    "version": 3
   },
   "file_extension": ".py",
   "mimetype": "text/x-python",
   "name": "python",
   "nbconvert_exporter": "python",
   "pygments_lexer": "ipython3",
   "version": "3.7.0"
  }
 },
 "nbformat": 4,
 "nbformat_minor": 2
}
