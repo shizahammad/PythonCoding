{
 "cells": [
  {
   "cell_type": "markdown",
   "metadata": {},
   "source": [
    "# Roll No : PIAIC56327, Q1"
   ]
  },
  {
   "cell_type": "markdown",
   "metadata": {},
   "source": [
    "### 1.  Which of the following terms are related to dictionaries?\n",
    "    a.\n",
    "    value\n",
    "    b.\n",
    "    item\n",
    "    d.\n",
    "    key"
   ]
  },
  {
   "cell_type": "markdown",
   "metadata": {},
   "source": [
    "### 2. Just like lists, + operator is used to extend dictionaries?\n",
    "    b.\n",
    "    False"
   ]
  },
  {
   "cell_type": "markdown",
   "metadata": {},
   "source": [
    "### 3. To access items from a dictionary, we specify the index of that item within [] like myDict[0]?\n",
    "    b.\n",
    "    False\n",
    "    because they are accessed like this\n",
    "    for items in myDict.items():"
   ]
  },
  {
   "cell_type": "markdown",
   "metadata": {},
   "source": [
    "### 4. When we use [] to access the value from a dictionary which does not exist in that dictionary….?\n",
    "    d.\n",
    "    None of above\n",
    "    it gives key error"
   ]
  },
  {
   "cell_type": "markdown",
   "metadata": {},
   "source": [
    "### 5. What does return the pop method of a dictionary?\n",
    "    d.\n",
    "    value of the key, if it exists in the dictionary"
   ]
  },
  {
   "cell_type": "markdown",
   "metadata": {},
   "source": [
    "### 6. What does return popitem method return?\n",
    "    b.\n",
    "    tupple containing the pair of last item of the dictionary"
   ]
  },
  {
   "cell_type": "markdown",
   "metadata": {},
   "source": [
    "### 7. Which of the following 2 methods can be used to iterate through the items of a dictionary?\n",
    "    a.\n",
    "    items() method is the only one that is used to iterate through dictionary items\n"
   ]
  },
  {
   "cell_type": "markdown",
   "metadata": {},
   "source": [
    "### 8. Which one of the following is used to enclose a dictionary?\n",
    "    b.\n",
    "    {} curly brackets\n",
    "    "
   ]
  },
  {
   "cell_type": "markdown",
   "metadata": {},
   "source": [
    "### 9.Write Python Program add key-value pair in dictionary and check if a Given Key or Value or Both Exists in a Dictionary or Not."
   ]
  },
  {
   "cell_type": "code",
   "execution_count": 3,
   "metadata": {},
   "outputs": [
    {
     "name": "stdout",
     "output_type": "stream",
     "text": [
      "1\n",
      "2\n",
      "enter n if you dont want to continue :r\n",
      "3\n",
      "4\n",
      "enter n if you dont want to continue :fg\n",
      "5\n",
      "6\n",
      "enter n if you dont want to continue :n\n",
      "{1: 2, 3: 4, 5: 6}\n",
      "enter key you want to find :1\n",
      "enter value you want to find :9\n"
     ]
    },
    {
     "ename": "TypeError",
     "evalue": "argument of type 'int' is not iterable",
     "output_type": "error",
     "traceback": [
      "\u001b[1;31m---------------------------------------------------------------------------\u001b[0m",
      "\u001b[1;31mTypeError\u001b[0m                                 Traceback (most recent call last)",
      "\u001b[1;32m<ipython-input-3-a810d51c483c>\u001b[0m in \u001b[0;36m<module>\u001b[1;34m\u001b[0m\n\u001b[0;32m     10\u001b[0m \u001b[0mcheck_value\u001b[0m \u001b[1;33m=\u001b[0m \u001b[0mint\u001b[0m\u001b[1;33m(\u001b[0m\u001b[0minput\u001b[0m\u001b[1;33m(\u001b[0m\u001b[1;34m\"enter value you want to find :\"\u001b[0m\u001b[1;33m)\u001b[0m\u001b[1;33m)\u001b[0m\u001b[1;33m\u001b[0m\u001b[0m\n\u001b[0;32m     11\u001b[0m \u001b[1;32mfor\u001b[0m \u001b[0mkey\u001b[0m\u001b[1;33m,\u001b[0m\u001b[0mvalue\u001b[0m \u001b[1;32min\u001b[0m \u001b[0mdict1\u001b[0m\u001b[1;33m.\u001b[0m\u001b[0mitems\u001b[0m\u001b[1;33m(\u001b[0m\u001b[1;33m)\u001b[0m\u001b[1;33m:\u001b[0m\u001b[1;33m\u001b[0m\u001b[0m\n\u001b[1;32m---> 12\u001b[1;33m     \u001b[1;32mif\u001b[0m \u001b[1;33m(\u001b[0m\u001b[0mcheck_key\u001b[0m \u001b[1;32min\u001b[0m \u001b[0mkey\u001b[0m \u001b[1;32mand\u001b[0m \u001b[0mcheck_value\u001b[0m \u001b[1;32min\u001b[0m \u001b[0mvalue\u001b[0m\u001b[1;33m)\u001b[0m\u001b[1;33m:\u001b[0m\u001b[1;33m\u001b[0m\u001b[0m\n\u001b[0m\u001b[0;32m     13\u001b[0m         \u001b[0mprint\u001b[0m\u001b[1;33m(\u001b[0m\u001b[1;34m\"key & value both exist\"\u001b[0m\u001b[1;33m)\u001b[0m\u001b[1;33m\u001b[0m\u001b[0m\n\u001b[0;32m     14\u001b[0m     \u001b[1;32melif\u001b[0m\u001b[1;33m(\u001b[0m\u001b[1;33m(\u001b[0m\u001b[0mcheck_key\u001b[0m \u001b[1;32min\u001b[0m \u001b[0mkey\u001b[0m \u001b[1;32mand\u001b[0m \u001b[0mcheck_value\u001b[0m \u001b[1;32mnot\u001b[0m \u001b[1;32min\u001b[0m \u001b[0mvalue\u001b[0m\u001b[1;33m)\u001b[0m\u001b[1;33m)\u001b[0m\u001b[1;33m:\u001b[0m\u001b[1;33m\u001b[0m\u001b[0m\n",
      "\u001b[1;31mTypeError\u001b[0m: argument of type 'int' is not iterable"
     ]
    }
   ],
   "source": [
    "dict1 = {}\n",
    "choice = 'y'\n",
    "while choice != 'n':\n",
    "    key = int(input(\"Enter key\"))\n",
    "    value = int(input(\"Enter value\"))\n",
    "    dict1.update({key:value})\n",
    "    choice = input('enter n if you dont want to continue :')\n",
    "print(dict1)\n",
    "check_key = int(input(\"enter key you want to find :\"))\n",
    "check_value = int(input(\"enter value you want to find :\"))\n",
    "for key,value in dict1.items():\n",
    "    if (check_key in key and check_value in value):\n",
    "        print(\"key & value both exist\")\n",
    "    elif((check_key in key and check_value not in value)):\n",
    "        print(\"only key exists\")\n",
    "    elif((check_key not in key and check_value in value)):\n",
    "        print(\"only value exists \")\n",
    "    else:\n",
    "        print(\"both key and value not found\")"
   ]
  },
  {
   "cell_type": "code",
   "execution_count": 7,
   "metadata": {},
   "outputs": [
    {
     "name": "stdout",
     "output_type": "stream",
     "text": [
      "Enter key1\n",
      "Enter value2\n",
      "enter n if you dont want to continue :f\n",
      "Enter key3\n",
      "Enter value4\n",
      "enter n if you dont want to continue :c\n",
      "Enter key5\n",
      "Enter value6\n",
      "enter n if you dont want to continue :n\n",
      "{1: 2, 3: 4, 5: 6}\n",
      "enter key you want to find :8\n",
      "enter value you want to find :4\n",
      "both key and value not found\n",
      "only value exists \n",
      "both key and value not found\n"
     ]
    }
   ],
   "source": [
    "dict1 = {}\n",
    "choice = 'y'\n",
    "while choice != 'n':\n",
    "    key = int(input(\"Enter key\"))\n",
    "    value = int(input(\"Enter value\"))\n",
    "    dict1.update({key:value})\n",
    "    choice = input('enter n if you dont want to continue :')\n",
    "print(dict1)\n",
    "check_key = int(input(\"enter key you want to find :\"))\n",
    "check_value = int(input(\"enter value you want to find :\"))\n",
    "for key,value in dict1.items():\n",
    "    if (check_key == key and check_value == value):\n",
    "        print(\"key & value both exist\")\n",
    "    elif((check_key == key and check_value != value)):\n",
    "        print(\"only key exists\")\n",
    "    elif((check_key != key and check_value == value)):\n",
    "        print(\"only value exists \")\n",
    "    else:\n",
    "        if(check_key != key and check_value != value):\n",
    "            print(\"both key and value not found\")"
   ]
  },
  {
   "cell_type": "markdown",
   "metadata": {},
   "source": [
    "### 10. Write a Python Program to Count the Frequency of Words Appearing in a String Using a Dictionary and print only the words having Even (divisible by 2) frequency."
   ]
  },
  {
   "cell_type": "code",
   "execution_count": 11,
   "metadata": {},
   "outputs": [
    {
     "name": "stdout",
     "output_type": "stream",
     "text": [
      "Enter string: python coding in jupyter python coding coding coding\n",
      "python\n",
      "coding\n"
     ]
    }
   ],
   "source": [
    "var1 = input(\"Enter string: \")\n",
    "list1 = var1.split()\n",
    "list2 = [list1.count(i) for i in list1]\n",
    "dict1 =dict(zip(list1,list2))\n",
    "for key, value in dict1.items():\n",
    "    if (value%2 == 0):\n",
    "        print(key)"
   ]
  },
  {
   "cell_type": "markdown",
   "metadata": {},
   "source": [
    "### 11. X = [\"Feb\", \"Apr\", \"Mar\", \"May\", \"Jun\", \"Jul\", \"Aug\", \"Jan\"]. What will be output of following?\n",
    "    X[0:3]\n",
    "    X[2:8]\n",
    "    X[4:9]\n",
    "    X[1:7:2]\n",
    "    X[-1:-7]\n",
    "    X[-7:7]\n",
    "    X[-1:-8:-2]\n",
    "    X[:4]"
   ]
  },
  {
   "cell_type": "code",
   "execution_count": 13,
   "metadata": {},
   "outputs": [
    {
     "name": "stdout",
     "output_type": "stream",
     "text": [
      "['Feb', 'Apr', 'Mar']\n",
      "['Mar', 'May', 'Jun', 'Jul', 'Aug', 'Jan']\n",
      "['Jun', 'Jul', 'Aug', 'Jan']\n",
      "['Apr', 'May', 'Jul']\n",
      "[]\n",
      "['Apr', 'Mar', 'May', 'Jun', 'Jul', 'Aug']\n",
      "['Jan', 'Jul', 'May', 'Apr']\n",
      "['Feb', 'Apr', 'Mar', 'May']\n"
     ]
    }
   ],
   "source": [
    "X = [\"Feb\", \"Apr\", \"Mar\", \"May\", \"Jun\", \"Jul\", \"Aug\", \"Jan\"]\n",
    "print(X[0:3]) #feb -march\n",
    "print(X[2:8]) #march-jan\n",
    "print(X[4:9]) #june- jan\n",
    "print(X[1:7:2]) #aprl,may,july\n",
    "print(X[-1:-7]) # []\n",
    "print(X[-7:7]) # aprl -aug\n",
    "print(X[-1:-8:-2])#jan,jul,may, april\n",
    "print(X[:4]) # feb- may"
   ]
  },
  {
   "cell_type": "markdown",
   "metadata": {},
   "source": [
    "### 12. Remove the correct number from the list X\n",
    "    X = [ 9,2,8,4,5]\n",
    "    X__?__\n",
    "    print (X)\n",
    "    Output: [2,8,4,5]\n",
    "    1) .delete(9)\n",
    "    2) .rm(9)\n",
    "    3) .remove(9)"
   ]
  },
  {
   "cell_type": "code",
   "execution_count": 14,
   "metadata": {},
   "outputs": [
    {
     "name": "stdout",
     "output_type": "stream",
     "text": [
      "[2, 8, 4, 5]\n"
     ]
    }
   ],
   "source": [
    "X = [ 9,2,8,4,5]\n",
    "X.remove(9)\n",
    "print(X)"
   ]
  },
  {
   "cell_type": "markdown",
   "metadata": {},
   "source": [
    "### 13. \n",
    "    p = 3\n",
    "    q = 'hello! '\n",
    "    print( q __?__ p)\n",
    "    hello! hello! hello!\n",
    "    1) *\n",
    "    2) **\n",
    "    3) +"
   ]
  },
  {
   "cell_type": "code",
   "execution_count": 15,
   "metadata": {},
   "outputs": [
    {
     "name": "stdout",
     "output_type": "stream",
     "text": [
      "hello! hello! hello! \n"
     ]
    }
   ],
   "source": [
    "p = 3\n",
    "q = 'hello! '\n",
    "print( q*p)"
   ]
  },
  {
   "cell_type": "markdown",
   "metadata": {},
   "source": [
    "### 14. y = \"this is a random sentence\"\n",
    "    print (y__?__)\n",
    "    Output: THIS IS A RANDOM SENTENCE\n",
    "    1) .upper()\n",
    "    2) .upcase()\n",
    "    3) .capitalize()"
   ]
  },
  {
   "cell_type": "code",
   "execution_count": 20,
   "metadata": {},
   "outputs": [
    {
     "name": "stdout",
     "output_type": "stream",
     "text": [
      "THIS IS A RANDOM SENTENCE\n"
     ]
    }
   ],
   "source": [
    "y = \"this is a random sentence\"\n",
    "print(y.upper())"
   ]
  },
  {
   "cell_type": "markdown",
   "metadata": {},
   "source": [
    "### 15.\n",
    "p = True\n",
    "q = ‘True’\n",
    "r = 2\n",
    "s = 2.0\n",
    "print(type(p))\n",
    "print(type(q))\n",
    "print(type(r))\n",
    "print(type(s))"
   ]
  },
  {
   "cell_type": "code",
   "execution_count": 21,
   "metadata": {},
   "outputs": [
    {
     "ename": "SyntaxError",
     "evalue": "invalid character in identifier (<ipython-input-21-9df68383da9d>, line 2)",
     "output_type": "error",
     "traceback": [
      "\u001b[1;36m  File \u001b[1;32m\"<ipython-input-21-9df68383da9d>\"\u001b[1;36m, line \u001b[1;32m2\u001b[0m\n\u001b[1;33m    q = ‘True’\u001b[0m\n\u001b[1;37m             ^\u001b[0m\n\u001b[1;31mSyntaxError\u001b[0m\u001b[1;31m:\u001b[0m invalid character in identifier\n"
     ]
    }
   ],
   "source": [
    "p = True \n",
    "q = ‘True’ \n",
    "r = 2\n",
    "s = 2.0 \n",
    "print(type(p)) \n",
    "print(type(q))\n",
    "print(type(r))\n",
    "print(type(s))"
   ]
  },
  {
   "cell_type": "code",
   "execution_count": 22,
   "metadata": {},
   "outputs": [
    {
     "name": "stdout",
     "output_type": "stream",
     "text": [
      "<class 'bool'>\n",
      "<class 'str'>\n",
      "<class 'int'>\n",
      "<class 'float'>\n"
     ]
    }
   ],
   "source": [
    "p = True \n",
    "q = 'True'\n",
    "r = 2\n",
    "s = 2.0 \n",
    "print(type(p)) \n",
    "print(type(q))\n",
    "print(type(r))\n",
    "print(type(s))"
   ]
  },
  {
   "cell_type": "markdown",
   "metadata": {},
   "source": [
    "### 16. What are the optional arguments to the function?\n",
    "    function_1(R1, q, p=None, R2= None)\n",
    "\n",
    "    2) p and R2\n"
   ]
  },
  {
   "cell_type": "markdown",
   "metadata": {},
   "source": [
    "### 17. Which command invokes method X() of the object p?\n",
    "\n",
    "    4) p.x()"
   ]
  },
  {
   "cell_type": "code",
   "execution_count": 23,
   "metadata": {},
   "outputs": [
    {
     "ename": "SyntaxError",
     "evalue": "can't assign to literal (<ipython-input-23-d16d1328ffdb>, line 2)",
     "output_type": "error",
     "traceback": [
      "\u001b[1;36m  File \u001b[1;32m\"<ipython-input-23-d16d1328ffdb>\"\u001b[1;36m, line \u001b[1;32m2\u001b[0m\n\u001b[1;33m    X=4 , Y= 2\u001b[0m\n\u001b[1;37m     ^\u001b[0m\n\u001b[1;31mSyntaxError\u001b[0m\u001b[1;31m:\u001b[0m can't assign to literal\n"
     ]
    }
   ],
   "source": [
    "18. \n",
    "X=4 , Y= 2\n",
    "print(X % Y)\n",
    "print(X / Y)\n",
    "print(X // Y)\n",
    "print(Y % X)\n"
   ]
  },
  {
   "cell_type": "code",
   "execution_count": 24,
   "metadata": {},
   "outputs": [
    {
     "name": "stdout",
     "output_type": "stream",
     "text": [
      "0\n",
      "2.0\n",
      "2\n",
      "2\n"
     ]
    }
   ],
   "source": [
    "X,Y= 4,2\n",
    "print(X % Y)\n",
    "print(X / Y)\n",
    "print(X // Y)\n",
    "print(Y % X)"
   ]
  },
  {
   "cell_type": "markdown",
   "metadata": {},
   "source": [
    "### 19. \n",
    "x = [[4, 1, 1], [5, 9, 0]]\n",
    "for i in __?__:\n",
    "    for j in __?__:\n",
    "?\n",
    "Output:\n",
    "4\n",
    "1\n",
    "1\n",
    "5\n",
    "9\n",
    "0\n",
    "x = [[4, 1, 1], [5, 9, 0]]\n",
    "for i in __?__:\n",
    "for j in __?__:\n",
    "?\n",
    "Output:\n",
    "4\n",
    "5\n",
    "1\n",
    "9\n",
    "1\n",
    "0\n",
    "x = [[4, 1, 1], [5, 9, 0]]\n",
    "for i in __?__:\n",
    "for j in __?__:\n",
    "?\n",
    "Output:\n",
    "4\n",
    "1\n",
    "1\n",
    "5\n",
    "9\n",
    "0\n",
    "x = [[4, 1, 1], [5, 9, 0]]\n",
    "for i in __?__:\n",
    "for j in __?__:\n",
    "?\n",
    "Output:\n",
    "4\n",
    "1\n",
    "1\n",
    "5\n",
    "9\n",
    "0"
   ]
  },
  {
   "cell_type": "code",
   "execution_count": 77,
   "metadata": {},
   "outputs": [
    {
     "name": "stdout",
     "output_type": "stream",
     "text": [
      "4\n",
      "1\n",
      "1\n",
      "5\n",
      "9\n",
      "0\n"
     ]
    }
   ],
   "source": [
    "x = [[4, 1, 1], [5, 9, 0]]\n",
    "for i in x:\n",
    "    #print(i)\n",
    "    for j in i:\n",
    "        print(j)"
   ]
  },
  {
   "cell_type": "code",
   "execution_count": 63,
   "metadata": {},
   "outputs": [
    {
     "name": "stdout",
     "output_type": "stream",
     "text": [
      "4 1 1 5 9 0 "
     ]
    }
   ],
   "source": [
    "x = [[4, 1, 1], [5, 9, 0]]\n",
    "for i in x:\n",
    "    for j in i:\n",
    "        print(j, end = ' ')"
   ]
  },
  {
   "cell_type": "code",
   "execution_count": 73,
   "metadata": {},
   "outputs": [
    {
     "name": "stdout",
     "output_type": "stream",
     "text": [
      "4 1 1 \n",
      "\n",
      "5 9 0 \n",
      "\n"
     ]
    }
   ],
   "source": [
    "x = [[4, 1, 1], [5, 9, 0]]\n",
    "for i in x:\n",
    "    for j in i:\n",
    "        print(j, end = ' ')\n",
    "    print(\"\\n\")"
   ]
  },
  {
   "cell_type": "markdown",
   "metadata": {},
   "source": [
    "### 20. q = [10.62, 16.14, 6.45, 17.11]\n",
    "for __?__, z in enumerate (q) :\n",
    "    print( 'Item' + str( j ) + ' - ', str ( z ))\n",
    "Output:\n",
    "Item 0 – 10.62\n",
    "Item 1 – 16.14\n",
    "Item 2 – 6.45\n",
    "Item 3 – 17.11\n",
    "1)\n",
    "z\n",
    "2)\n",
    "i\n",
    "3)\n",
    "j\n",
    "4)\n",
    "x\n",
    "5)\n",
    "k\n",
    "6)\n",
    "y"
   ]
  },
  {
   "cell_type": "code",
   "execution_count": 83,
   "metadata": {},
   "outputs": [
    {
     "name": "stdout",
     "output_type": "stream",
     "text": [
      "Item0 -  10.62\n",
      "Item1 -  16.14\n",
      "Item2 -  6.45\n",
      "Item3 -  17.11\n"
     ]
    }
   ],
   "source": [
    "q = [10.62, 16.14, 6.45, 17.11]\n",
    "for j, z in enumerate (q) :\n",
    "    print( 'Item' + str( j ) + ' - ', str ( z ))\n"
   ]
  },
  {
   "cell_type": "markdown",
   "metadata": {},
   "source": [
    "### 21. Which of these about a dictionary is false?\n",
    "    b) The keys of a dictionary can be accessed using values\n"
   ]
  },
  {
   "cell_type": "markdown",
   "metadata": {},
   "source": [
    "### 22. What is the output of the following:\n",
    "    D = dict()\n",
    "    for i in range (3):\n",
    "    for j in range(2):\n",
    "    D[i] = j\n",
    "    a.\n",
    "    {0: 1, 1: 1, 2: 1}\n",
    "    b.\n",
    "    {1: 0, 1: 1, 1: 2}\n",
    "    c.\n",
    "    {0: 1, 1: 2, 2: 3}\n",
    "    d.\n",
    "    {1: 2, 1: 1, 1: 0}"
   ]
  },
  {
   "cell_type": "code",
   "execution_count": 86,
   "metadata": {},
   "outputs": [
    {
     "ename": "SyntaxError",
     "evalue": "keyword can't be an expression (<ipython-input-86-2e52c1b3de20>, line 4)",
     "output_type": "error",
     "traceback": [
      "\u001b[1;36m  File \u001b[1;32m\"<ipython-input-86-2e52c1b3de20>\"\u001b[1;36m, line \u001b[1;32m4\u001b[0m\n\u001b[1;33m    print(D[i] = j)\u001b[0m\n\u001b[1;37m         ^\u001b[0m\n\u001b[1;31mSyntaxError\u001b[0m\u001b[1;31m:\u001b[0m keyword can't be an expression\n"
     ]
    }
   ],
   "source": [
    "D = dict()\n",
    "for i in range (3):\n",
    "    for j in range(2):\n",
    "        print(D[i] = j)"
   ]
  },
  {
   "cell_type": "code",
   "execution_count": 98,
   "metadata": {},
   "outputs": [
    {
     "name": "stdout",
     "output_type": "stream",
     "text": [
      "{0: 1, 1: 1, 2: 1}\n"
     ]
    }
   ],
   "source": [
    "D = dict()\n",
    "for i in range (3):\n",
    "    for j in range(2):\n",
    "        D[i] = j\n",
    "print(D)"
   ]
  },
  {
   "cell_type": "markdown",
   "metadata": {},
   "source": [
    "### 23. You are writing a function that increments player score in a soccer game\n",
    "    If no value is specified for points, then point must start with 1\n",
    "    If no value is specified for bonus, then bonus should be True\n",
    "    01 def increment_score ( bonus , score , points ):\n",
    "    To meet the first requirement line 01 must be change to\n",
    "    .\n",
    "    def increment_score( bonus , score , points = 1 ):\n",
    "    (True)\n",
    "    To meet the second requirement line 01 must be change to\n",
    "    .\n",
    "    def increment_score( bonus = True , score , points = 1 ): (False) because key arguments shouldnt come before positional      arguments\n",
    "    .\n",
    "    Once a parameter is defined with default value, any parameter to the right must also be defined\n",
    "    with default values\n",
    "    (True)"
   ]
  },
  {
   "cell_type": "markdown",
   "metadata": {},
   "source": [
    "### 24. What will be output?\n",
    "    def avg ( x , y , z = 50 ):\n",
    "    adding = x + y + z\n",
    "    avg_value = adding / 3\n",
    "    return avg_value\n",
    "    y = avg ( x = 5 , y = 9 , z = 20 )\n",
    "    print(y)"
   ]
  },
  {
   "cell_type": "code",
   "execution_count": 100,
   "metadata": {},
   "outputs": [
    {
     "name": "stdout",
     "output_type": "stream",
     "text": [
      "11.333333333333334\n"
     ]
    }
   ],
   "source": [
    "def avg ( x , y , z = 50 ):\n",
    "    adding = x + y + z\n",
    "    avg_value = adding / 3\n",
    "    return avg_value\n",
    "y = avg ( x = 5 , y = 9 , z = 20 )\n",
    "print(y)"
   ]
  },
  {
   "cell_type": "markdown",
   "metadata": {},
   "source": [
    "### 25. What will be output? Describe it with reason and logic behind. Do multiple experiments with arguments / parameters to remove error, if occurs.\n",
    "    def avg ( *opt_values , name ):\n",
    "    avg_value = sum (opt_values) / len(opt_values)\n",
    "    print(‘name is: ’ + name + ‘Marks: ’ + str(avg_value))\n",
    "    avg ( 5 , 9 , 20, 34, 87, 112 , ‘Ali’ )"
   ]
  },
  {
   "cell_type": "code",
   "execution_count": 102,
   "metadata": {},
   "outputs": [
    {
     "ename": "SyntaxError",
     "evalue": "invalid character in identifier (<ipython-input-102-83b1aac12946>, line 3)",
     "output_type": "error",
     "traceback": [
      "\u001b[1;36m  File \u001b[1;32m\"<ipython-input-102-83b1aac12946>\"\u001b[1;36m, line \u001b[1;32m3\u001b[0m\n\u001b[1;33m    print(‘name is: ’ + name + ‘Marks: ’ + str(avg_value))\u001b[0m\n\u001b[1;37m              ^\u001b[0m\n\u001b[1;31mSyntaxError\u001b[0m\u001b[1;31m:\u001b[0m invalid character in identifier\n"
     ]
    }
   ],
   "source": [
    "def avg ( *opt_values , name ):\n",
    "    avg_value = sum (opt_values) / len(opt_values)\n",
    "    print(‘name is: ’ + name + ‘Marks: ’ + str(avg_value))\n",
    "    avg ( 5 , 9 , 20, 34, 87, 112 , ‘Ali’ )"
   ]
  },
  {
   "cell_type": "code",
   "execution_count": 105,
   "metadata": {},
   "outputs": [
    {
     "ename": "TypeError",
     "evalue": "avg() missing 1 required keyword-only argument: 'name'",
     "output_type": "error",
     "traceback": [
      "\u001b[1;31m---------------------------------------------------------------------------\u001b[0m",
      "\u001b[1;31mTypeError\u001b[0m                                 Traceback (most recent call last)",
      "\u001b[1;32m<ipython-input-105-bc5456db6b6f>\u001b[0m in \u001b[0;36m<module>\u001b[1;34m\u001b[0m\n\u001b[0;32m      2\u001b[0m     \u001b[0mavg_value\u001b[0m \u001b[1;33m=\u001b[0m \u001b[0msum\u001b[0m \u001b[1;33m(\u001b[0m\u001b[0mopt_values\u001b[0m\u001b[1;33m)\u001b[0m \u001b[1;33m/\u001b[0m \u001b[0mlen\u001b[0m\u001b[1;33m(\u001b[0m\u001b[0mopt_values\u001b[0m\u001b[1;33m)\u001b[0m\u001b[1;33m\u001b[0m\u001b[0m\n\u001b[0;32m      3\u001b[0m     \u001b[0mprint\u001b[0m\u001b[1;33m(\u001b[0m\u001b[1;34m'name is: '\u001b[0m \u001b[1;33m+\u001b[0m \u001b[0mname\u001b[0m \u001b[1;33m+\u001b[0m \u001b[1;34m'Marks:'\u001b[0m \u001b[1;33m+\u001b[0m \u001b[0mstr\u001b[0m\u001b[1;33m(\u001b[0m\u001b[0mavg_value\u001b[0m\u001b[1;33m)\u001b[0m\u001b[1;33m)\u001b[0m\u001b[1;33m\u001b[0m\u001b[0m\n\u001b[1;32m----> 4\u001b[1;33m \u001b[0mavg\u001b[0m \u001b[1;33m(\u001b[0m \u001b[1;36m5\u001b[0m \u001b[1;33m,\u001b[0m \u001b[1;36m9\u001b[0m \u001b[1;33m,\u001b[0m \u001b[1;36m20\u001b[0m\u001b[1;33m,\u001b[0m \u001b[1;36m34\u001b[0m\u001b[1;33m,\u001b[0m \u001b[1;36m87\u001b[0m\u001b[1;33m,\u001b[0m \u001b[1;36m112\u001b[0m \u001b[1;33m,\u001b[0m \u001b[1;34m'Ali'\u001b[0m \u001b[1;33m)\u001b[0m\u001b[1;33m\u001b[0m\u001b[0m\n\u001b[0m",
      "\u001b[1;31mTypeError\u001b[0m: avg() missing 1 required keyword-only argument: 'name'"
     ]
    }
   ],
   "source": [
    "def avg ( *opt_values , name ):\n",
    "    avg_value = sum (opt_values) / len(opt_values)\n",
    "    print('name is: ' + name + 'Marks:' + str(avg_value))\n",
    "avg ( 5 , 9 , 20, 34, 87, 112 , 'Ali' )"
   ]
  },
  {
   "cell_type": "code",
   "execution_count": 107,
   "metadata": {},
   "outputs": [
    {
     "name": "stdout",
     "output_type": "stream",
     "text": [
      "name is: Ali Marks:44.5\n"
     ]
    }
   ],
   "source": [
    "def avg ( *opt_values , name ):  ## function definition which shows multiple positional arguments can be given\n",
    "    avg_value = sum (opt_values) / len(opt_values) # the positional values are summed and avg is calculated by taking length of the values passed\n",
    "    print('name is: ' + name + ' Marks:' + str(avg_value)) # its a non return type function\n",
    "avg ( 5 , 9 , 20, 34, 87, 112 , name ='Ali' ) #function call with multiple positional arguments and 1 key argument"
   ]
  },
  {
   "cell_type": "code",
   "execution_count": 109,
   "metadata": {},
   "outputs": [
    {
     "name": "stdout",
     "output_type": "stream",
     "text": [
      "name is: AliMarks:44.5\n"
     ]
    }
   ],
   "source": [
    "def avg ( name , *opt_values  ):\n",
    "    avg_value = sum (opt_values) / len(opt_values)\n",
    "    print('name is: ' + name + 'Marks:' + str(avg_value))\n",
    "avg ( 'Ali', 5 , 9 , 20, 34, 87, 112  )"
   ]
  },
  {
   "cell_type": "code",
   "execution_count": 110,
   "metadata": {},
   "outputs": [
    {
     "ename": "SyntaxError",
     "evalue": "positional argument follows keyword argument (<ipython-input-110-0c24e62bf3c8>, line 4)",
     "output_type": "error",
     "traceback": [
      "\u001b[1;36m  File \u001b[1;32m\"<ipython-input-110-0c24e62bf3c8>\"\u001b[1;36m, line \u001b[1;32m4\u001b[0m\n\u001b[1;33m    avg ( name = 'Ali', 5 , 9 , 20, 34, 87, 112  )\u001b[0m\n\u001b[1;37m                       ^\u001b[0m\n\u001b[1;31mSyntaxError\u001b[0m\u001b[1;31m:\u001b[0m positional argument follows keyword argument\n"
     ]
    }
   ],
   "source": [
    "def avg ( name , *opt_values  ):\n",
    "    avg_value = sum (opt_values) / len(opt_values)\n",
    "    print('name is: ' + name + 'Marks:' + str(avg_value))\n",
    "avg ( name = 'Ali', 5 , 9 , 20, 34, 87, 112  )"
   ]
  },
  {
   "cell_type": "code",
   "execution_count": 111,
   "metadata": {},
   "outputs": [
    {
     "ename": "SyntaxError",
     "evalue": "invalid syntax (<ipython-input-111-f452ec375bc8>, line 1)",
     "output_type": "error",
     "traceback": [
      "\u001b[1;36m  File \u001b[1;32m\"<ipython-input-111-f452ec375bc8>\"\u001b[1;36m, line \u001b[1;32m1\u001b[0m\n\u001b[1;33m    def avg ( **name , *opt_values  ):\u001b[0m\n\u001b[1;37m                       ^\u001b[0m\n\u001b[1;31mSyntaxError\u001b[0m\u001b[1;31m:\u001b[0m invalid syntax\n"
     ]
    }
   ],
   "source": [
    "def avg ( **name , *opt_values  ):\n",
    "    avg_value = sum (opt_values) / len(opt_values)\n",
    "    print('name is: ' + name + 'Marks:' + str(avg_value))\n",
    "avg ( a = 'shiza',name = 'Ali', 5 , 9 , 20, 34, 87, 112  )"
   ]
  },
  {
   "cell_type": "code",
   "execution_count": 115,
   "metadata": {},
   "outputs": [
    {
     "name": "stdout",
     "output_type": "stream",
     "text": [
      "Marks:44.5\n",
      "key : a    value: shiza\n",
      "key : name    value: Ali\n"
     ]
    }
   ],
   "source": [
    "def avg ( *opt_values ,**name ):\n",
    "    avg_value = sum (opt_values) / len(opt_values)\n",
    "    print( 'Marks:' + str(avg_value))\n",
    "    for i,j in name.items():\n",
    "        print(\"key :\" ,i,\"  \",\"value:\",j)\n",
    "avg ( 5 , 9 , 20, 34, 87, 112  , a = 'shiza',name = 'Ali')\n"
   ]
  },
  {
   "cell_type": "code",
   "execution_count": 117,
   "metadata": {},
   "outputs": [
    {
     "ename": "SyntaxError",
     "evalue": "invalid syntax (<ipython-input-117-d89d2ef05230>, line 1)",
     "output_type": "error",
     "traceback": [
      "\u001b[1;36m  File \u001b[1;32m\"<ipython-input-117-d89d2ef05230>\"\u001b[1;36m, line \u001b[1;32m1\u001b[0m\n\u001b[1;33m    def avg (**name , *opt_values ):\u001b[0m\n\u001b[1;37m                      ^\u001b[0m\n\u001b[1;31mSyntaxError\u001b[0m\u001b[1;31m:\u001b[0m invalid syntax\n"
     ]
    }
   ],
   "source": [
    "def avg (**name , *opt_values ):\n",
    "    avg_value = sum (opt_values) / len(opt_values)\n",
    "    print( 'Marks:' + str(avg_value))\n",
    "    for i,j in name.items():\n",
    "        print(\"key :\" ,i,\"  \",\"value:\",j)\n",
    "avg ( 5 , 9 , 20, 34, 87, 112  , a = 'shiza',name = 'Ali' )"
   ]
  },
  {
   "cell_type": "code",
   "execution_count": 120,
   "metadata": {},
   "outputs": [
    {
     "ename": "TypeError",
     "evalue": "can only concatenate str (not \"int\") to str",
     "output_type": "error",
     "traceback": [
      "\u001b[1;31m---------------------------------------------------------------------------\u001b[0m",
      "\u001b[1;31mTypeError\u001b[0m                                 Traceback (most recent call last)",
      "\u001b[1;32m<ipython-input-120-c1b4948d4baf>\u001b[0m in \u001b[0;36m<module>\u001b[1;34m\u001b[0m\n\u001b[0;32m      2\u001b[0m     \u001b[0mavg_value\u001b[0m \u001b[1;33m=\u001b[0m \u001b[0msum\u001b[0m \u001b[1;33m(\u001b[0m\u001b[0mopt_values\u001b[0m\u001b[1;33m)\u001b[0m \u001b[1;33m/\u001b[0m \u001b[0mlen\u001b[0m\u001b[1;33m(\u001b[0m\u001b[0mopt_values\u001b[0m\u001b[1;33m)\u001b[0m\u001b[1;33m\u001b[0m\u001b[0m\n\u001b[0;32m      3\u001b[0m     \u001b[0mprint\u001b[0m\u001b[1;33m(\u001b[0m \u001b[1;34m'name is: '\u001b[0m \u001b[1;33m+\u001b[0m \u001b[0mname\u001b[0m \u001b[1;33m+\u001b[0m \u001b[1;34m'Marks:'\u001b[0m \u001b[1;33m+\u001b[0m \u001b[0mstr\u001b[0m\u001b[1;33m(\u001b[0m\u001b[0mavg_value\u001b[0m\u001b[1;33m)\u001b[0m\u001b[1;33m)\u001b[0m\u001b[1;33m\u001b[0m\u001b[0m\n\u001b[1;32m----> 4\u001b[1;33m \u001b[0mavg\u001b[0m \u001b[1;33m(\u001b[0m \u001b[1;36m5\u001b[0m \u001b[1;33m,\u001b[0m \u001b[1;36m9\u001b[0m \u001b[1;33m,\u001b[0m \u001b[1;36m20\u001b[0m\u001b[1;33m,\u001b[0m \u001b[1;36m34\u001b[0m\u001b[1;33m,\u001b[0m \u001b[1;36m87\u001b[0m\u001b[1;33m,\u001b[0m \u001b[1;36m112\u001b[0m \u001b[1;33m)\u001b[0m\u001b[1;33m\u001b[0m\u001b[0m\n\u001b[0m",
      "\u001b[1;32m<ipython-input-120-c1b4948d4baf>\u001b[0m in \u001b[0;36mavg\u001b[1;34m(name, *opt_values)\u001b[0m\n\u001b[0;32m      1\u001b[0m \u001b[1;32mdef\u001b[0m \u001b[0mavg\u001b[0m \u001b[1;33m(\u001b[0m\u001b[0mname\u001b[0m \u001b[1;33m=\u001b[0m\u001b[1;34m'Ali'\u001b[0m\u001b[1;33m,\u001b[0m \u001b[1;33m*\u001b[0m\u001b[0mopt_values\u001b[0m \u001b[1;33m)\u001b[0m\u001b[1;33m:\u001b[0m\u001b[1;33m\u001b[0m\u001b[0m\n\u001b[0;32m      2\u001b[0m     \u001b[0mavg_value\u001b[0m \u001b[1;33m=\u001b[0m \u001b[0msum\u001b[0m \u001b[1;33m(\u001b[0m\u001b[0mopt_values\u001b[0m\u001b[1;33m)\u001b[0m \u001b[1;33m/\u001b[0m \u001b[0mlen\u001b[0m\u001b[1;33m(\u001b[0m\u001b[0mopt_values\u001b[0m\u001b[1;33m)\u001b[0m\u001b[1;33m\u001b[0m\u001b[0m\n\u001b[1;32m----> 3\u001b[1;33m     \u001b[0mprint\u001b[0m\u001b[1;33m(\u001b[0m \u001b[1;34m'name is: '\u001b[0m \u001b[1;33m+\u001b[0m \u001b[0mname\u001b[0m \u001b[1;33m+\u001b[0m \u001b[1;34m'Marks:'\u001b[0m \u001b[1;33m+\u001b[0m \u001b[0mstr\u001b[0m\u001b[1;33m(\u001b[0m\u001b[0mavg_value\u001b[0m\u001b[1;33m)\u001b[0m\u001b[1;33m)\u001b[0m\u001b[1;33m\u001b[0m\u001b[0m\n\u001b[0m\u001b[0;32m      4\u001b[0m \u001b[0mavg\u001b[0m \u001b[1;33m(\u001b[0m \u001b[1;36m5\u001b[0m \u001b[1;33m,\u001b[0m \u001b[1;36m9\u001b[0m \u001b[1;33m,\u001b[0m \u001b[1;36m20\u001b[0m\u001b[1;33m,\u001b[0m \u001b[1;36m34\u001b[0m\u001b[1;33m,\u001b[0m \u001b[1;36m87\u001b[0m\u001b[1;33m,\u001b[0m \u001b[1;36m112\u001b[0m \u001b[1;33m)\u001b[0m\u001b[1;33m\u001b[0m\u001b[0m\n",
      "\u001b[1;31mTypeError\u001b[0m: can only concatenate str (not \"int\") to str"
     ]
    }
   ],
   "source": [
    "def avg (name ='Ali', *opt_values ):\n",
    "    avg_value = sum (opt_values) / len(opt_values)\n",
    "    print( 'name is: ' + name + 'Marks:' + str(avg_value))\n",
    "avg ( 5 , 9 , 20, 34, 87, 112 )"
   ]
  },
  {
   "cell_type": "code",
   "execution_count": 123,
   "metadata": {},
   "outputs": [
    {
     "name": "stdout",
     "output_type": "stream",
     "text": [
      "name is: malik Marks:44.5\n"
     ]
    }
   ],
   "source": [
    "def avg ( *opt_values ,name ='Ali'):\n",
    "    avg_value = sum (opt_values) / len(opt_values)\n",
    "    print( 'name is: ' + name + ' Marks:' + str(avg_value))\n",
    "avg ( 5 , 9 , 20, 34, 87, 112, name = 'malik' )"
   ]
  },
  {
   "cell_type": "markdown",
   "metadata": {},
   "source": [
    "#### 26. Final output is not required. Just take copy pencil, think and write the output of each line, write down the link between parameters and arguments. Remove one or two ** from other_info and observe the ouput.\n",
    "    def display_result(winner, score, **other_info):\n",
    "    print(\"The winner was \" + winner)\n",
    "    print(\"The score was \" + score)\n",
    "    display_result(winner=“Manchester\", score=\"1-0\", overtime =\"yes\", injuries=\"none\")"
   ]
  },
  {
   "cell_type": "code",
   "execution_count": 126,
   "metadata": {},
   "outputs": [
    {
     "name": "stdout",
     "output_type": "stream",
     "text": [
      "The winner was Manchester\n",
      "The score was 1-0\n"
     ]
    }
   ],
   "source": [
    "def display_result(winner, score, **other_info): # positional with multiple key parameters passed\n",
    "    print(\"The winner was \" + winner)\n",
    "    print(\"The score was \" + score) # non return type function\n",
    "display_result(winner='Manchester', score=\"1-0\", overtime =\"yes\", injuries=\"none\") # key arguments are passed"
   ]
  },
  {
   "cell_type": "code",
   "execution_count": 127,
   "metadata": {},
   "outputs": [
    {
     "ename": "TypeError",
     "evalue": "display_result() got an unexpected keyword argument 'overtime'",
     "output_type": "error",
     "traceback": [
      "\u001b[1;31m---------------------------------------------------------------------------\u001b[0m",
      "\u001b[1;31mTypeError\u001b[0m                                 Traceback (most recent call last)",
      "\u001b[1;32m<ipython-input-127-eb2f7b6daadf>\u001b[0m in \u001b[0;36m<module>\u001b[1;34m\u001b[0m\n\u001b[0;32m      3\u001b[0m     \u001b[0mprint\u001b[0m\u001b[1;33m(\u001b[0m\u001b[1;34m\"The score was \"\u001b[0m \u001b[1;33m+\u001b[0m \u001b[0mscore\u001b[0m\u001b[1;33m)\u001b[0m \u001b[1;31m# non return type function\u001b[0m\u001b[1;33m\u001b[0m\u001b[0m\n\u001b[0;32m      4\u001b[0m     \u001b[0mprint\u001b[0m\u001b[1;33m(\u001b[0m\u001b[0mother_info\u001b[0m\u001b[1;33m)\u001b[0m\u001b[1;33m\u001b[0m\u001b[0m\n\u001b[1;32m----> 5\u001b[1;33m \u001b[0mdisplay_result\u001b[0m\u001b[1;33m(\u001b[0m\u001b[0mwinner\u001b[0m\u001b[1;33m=\u001b[0m\u001b[1;34m'Manchester'\u001b[0m\u001b[1;33m,\u001b[0m \u001b[0mscore\u001b[0m\u001b[1;33m=\u001b[0m\u001b[1;34m\"1-0\"\u001b[0m\u001b[1;33m,\u001b[0m \u001b[0movertime\u001b[0m \u001b[1;33m=\u001b[0m\u001b[1;34m\"yes\"\u001b[0m\u001b[1;33m,\u001b[0m \u001b[0minjuries\u001b[0m\u001b[1;33m=\u001b[0m\u001b[1;34m\"none\"\u001b[0m\u001b[1;33m)\u001b[0m \u001b[1;31m# key arguments are passed\u001b[0m\u001b[1;33m\u001b[0m\u001b[0m\n\u001b[0m",
      "\u001b[1;31mTypeError\u001b[0m: display_result() got an unexpected keyword argument 'overtime'"
     ]
    }
   ],
   "source": [
    "def display_result(winner, score, *other_info): # positional with multiple key parameters passed\n",
    "    print(\"The winner was \" + winner)\n",
    "    print(\"The score was \" + score) # non return type function\n",
    "    print(other_info)\n",
    "display_result(winner='Manchester', score=\"1-0\", overtime =\"yes\", injuries=\"none\") # key arguments are passed"
   ]
  },
  {
   "cell_type": "code",
   "execution_count": 129,
   "metadata": {},
   "outputs": [
    {
     "name": "stdout",
     "output_type": "stream",
     "text": [
      "The winner was Manchester\n",
      "The score was 1-0\n",
      "overtime yes\n",
      "injuries none\n"
     ]
    }
   ],
   "source": [
    "def display_result(winner, score, **other_info): # positional with multiple key parameters passed\n",
    "    print(\"The winner was \" + winner)\n",
    "    print(\"The score was \" + score) # non return type function\n",
    "    for key,value in other_info.items():\n",
    "        print(key,value)\n",
    "display_result(winner='Manchester', score=\"1-0\", overtime =\"yes\", injuries=\"none\") # key arguments are passed"
   ]
  },
  {
   "cell_type": "code",
   "execution_count": 130,
   "metadata": {},
   "outputs": [
    {
     "ename": "SyntaxError",
     "evalue": "positional argument follows keyword argument (<ipython-input-130-091447c131ac>, line 5)",
     "output_type": "error",
     "traceback": [
      "\u001b[1;36m  File \u001b[1;32m\"<ipython-input-130-091447c131ac>\"\u001b[1;36m, line \u001b[1;32m5\u001b[0m\n\u001b[1;33m    display_result(winner='Manchester', score=\"1-0\", \"yes\", \"none\") # key arguments are passed\u001b[0m\n\u001b[1;37m                                                    ^\u001b[0m\n\u001b[1;31mSyntaxError\u001b[0m\u001b[1;31m:\u001b[0m positional argument follows keyword argument\n"
     ]
    }
   ],
   "source": [
    "def display_result(winner, score, *other_info): # positional with multiple key parameters passed\n",
    "    print(\"The winner was \" + winner)\n",
    "    print(\"The score was \" + score) # non return type function\n",
    "    print(other_info)\n",
    "display_result(winner='Manchester', score=\"1-0\", \"yes\", \"none\") # key arguments are passed"
   ]
  },
  {
   "cell_type": "code",
   "execution_count": 131,
   "metadata": {},
   "outputs": [
    {
     "ename": "TypeError",
     "evalue": "display_result() got multiple values for argument 'winner'",
     "output_type": "error",
     "traceback": [
      "\u001b[1;31m---------------------------------------------------------------------------\u001b[0m",
      "\u001b[1;31mTypeError\u001b[0m                                 Traceback (most recent call last)",
      "\u001b[1;32m<ipython-input-131-236bdadfdaf5>\u001b[0m in \u001b[0;36m<module>\u001b[1;34m\u001b[0m\n\u001b[0;32m      3\u001b[0m     \u001b[0mprint\u001b[0m\u001b[1;33m(\u001b[0m\u001b[1;34m\"The score was \"\u001b[0m \u001b[1;33m+\u001b[0m \u001b[0mscore\u001b[0m\u001b[1;33m)\u001b[0m \u001b[1;31m# non return type function\u001b[0m\u001b[1;33m\u001b[0m\u001b[0m\n\u001b[0;32m      4\u001b[0m     \u001b[0mprint\u001b[0m\u001b[1;33m(\u001b[0m\u001b[0mother_info\u001b[0m\u001b[1;33m)\u001b[0m\u001b[1;33m\u001b[0m\u001b[0m\n\u001b[1;32m----> 5\u001b[1;33m \u001b[0mdisplay_result\u001b[0m\u001b[1;33m(\u001b[0m \u001b[1;34m\"yes\"\u001b[0m\u001b[1;33m,\u001b[0m \u001b[1;34m\"none\"\u001b[0m\u001b[1;33m,\u001b[0m\u001b[0mwinner\u001b[0m\u001b[1;33m=\u001b[0m\u001b[1;34m'Manchester'\u001b[0m\u001b[1;33m,\u001b[0m \u001b[0mscore\u001b[0m\u001b[1;33m=\u001b[0m\u001b[1;34m\"1-0\"\u001b[0m\u001b[1;33m)\u001b[0m \u001b[1;31m# key arguments are passed\u001b[0m\u001b[1;33m\u001b[0m\u001b[0m\n\u001b[0m",
      "\u001b[1;31mTypeError\u001b[0m: display_result() got multiple values for argument 'winner'"
     ]
    }
   ],
   "source": [
    "def display_result(winner, score, *other_info): # positional with multiple key parameters passed\n",
    "    print(\"The winner was \" + winner)\n",
    "    print(\"The score was \" + score) # non return type function\n",
    "    print(other_info)\n",
    "display_result( \"yes\", \"none\",winner='Manchester', score=\"1-0\") # key arguments are passed"
   ]
  },
  {
   "cell_type": "code",
   "execution_count": 132,
   "metadata": {},
   "outputs": [
    {
     "name": "stdout",
     "output_type": "stream",
     "text": [
      "The winner was Manchester\n",
      "The score was 1-0\n",
      "('yes', 'none')\n"
     ]
    }
   ],
   "source": [
    "def display_result(*other_info, winner, score): # positional with multiple key parameters passed\n",
    "    print(\"The winner was \" + winner)\n",
    "    print(\"The score was \" + score) # non return type function\n",
    "    print(other_info)\n",
    "display_result( \"yes\", \"none\",winner='Manchester', score=\"1-0\") # key arguments are passed"
   ]
  },
  {
   "cell_type": "code",
   "execution_count": 137,
   "metadata": {},
   "outputs": [
    {
     "name": "stdout",
     "output_type": "stream",
     "text": [
      "none\n",
      "yes\n",
      "winner Manchester\n",
      "score 1-0\n"
     ]
    }
   ],
   "source": [
    "def display_result(y, x, **other_info): # positional with multiple key parameters passed\n",
    "    print(x)\n",
    "    print(y)\n",
    "    for i,j in other_info.items():\n",
    "        print(i,j)\n",
    "display_result( \"yes\", \"none\", winner='Manchester', score=\"1-0\") # key arguments are passed"
   ]
  },
  {
   "cell_type": "markdown",
   "metadata": {},
   "source": [
    "### 27. The position of parameters and arguments is re-arranged. Just think and find the logic behind output or error.\n",
    "    def display_result(winner, **other_info, score):\n",
    "    print(\"The winner was \" + winner)\n",
    "    print(\"The score was \" + score)\n",
    "    display_result(winner=“Manchester\", overtime =\"yes\", injuries=\"none“ , score=\"1-0“ )"
   ]
  },
  {
   "cell_type": "code",
   "execution_count": 138,
   "metadata": {},
   "outputs": [
    {
     "ename": "SyntaxError",
     "evalue": "invalid syntax (<ipython-input-138-e17c752d7492>, line 1)",
     "output_type": "error",
     "traceback": [
      "\u001b[1;36m  File \u001b[1;32m\"<ipython-input-138-e17c752d7492>\"\u001b[1;36m, line \u001b[1;32m1\u001b[0m\n\u001b[1;33m    def display_result(winner, **other_info, score):\u001b[0m\n\u001b[1;37m                                                 ^\u001b[0m\n\u001b[1;31mSyntaxError\u001b[0m\u001b[1;31m:\u001b[0m invalid syntax\n"
     ]
    }
   ],
   "source": [
    "def display_result(winner, **other_info, score):\n",
    "    print(\"The winner was \" + winner)\n",
    "    print(\"The score was \" + score)\n",
    "display_result(winner= 'Manchester', overtime =\"yes\", injuries=\"none“ , score=\"1-0')"
   ]
  },
  {
   "cell_type": "code",
   "execution_count": 142,
   "metadata": {},
   "outputs": [
    {
     "name": "stdout",
     "output_type": "stream",
     "text": [
      "The winner was Manchester\n",
      "The score was 1-0\n"
     ]
    }
   ],
   "source": [
    "def display_result(winner, score, **other_info):\n",
    "    print(\"The winner was \" + winner)\n",
    "    print(\"The score was \" + score)\n",
    "display_result(winner= 'Manchester', overtime =\"yes\", injuries=\"none\" , score =\"1-0\")"
   ]
  },
  {
   "cell_type": "markdown",
   "metadata": {},
   "source": [
    "### 28. What will be the output of the following Python expression if X=123?\n",
    "    print(“%06d”%X)\n",
    "    a) 123000\n",
    "    b) 000123\n",
    "    c) 000000123\n",
    "    d) 123000000"
   ]
  },
  {
   "cell_type": "code",
   "execution_count": 148,
   "metadata": {},
   "outputs": [
    {
     "name": "stdout",
     "output_type": "stream",
     "text": [
      "000123\n"
     ]
    }
   ],
   "source": [
    "X= 123\n",
    "print(\"%06d\"%X)"
   ]
  },
  {
   "cell_type": "markdown",
   "metadata": {},
   "source": [
    "### 29. What will be the output of the following Python expression if x=22.19?\n",
    "    print(\"%5.2f\"%x)\n",
    "    a) 22.1900\n",
    "    b) 22.00000\n",
    "    c) 22.19\n",
    "    d) 22.20"
   ]
  },
  {
   "cell_type": "code",
   "execution_count": 149,
   "metadata": {},
   "outputs": [
    {
     "name": "stdout",
     "output_type": "stream",
     "text": [
      "22.19\n"
     ]
    }
   ],
   "source": [
    "x=22.19\n",
    "print(\"%5.2f\"%x)"
   ]
  },
  {
   "cell_type": "markdown",
   "metadata": {},
   "source": [
    "### 30. What will be the output of the following Python code?\n",
    "    '{0:f}, {1:2f}, {2:05.2f}'.format(1.23456, 1.23456, 1.23456)\n",
    "    a) Error\n",
    "    b) ‘1.234560, 1.22345, 1.23’\n",
    "    c) No output\n",
    "    d) ‘1.234560, 1.234560, 01.23’"
   ]
  },
  {
   "cell_type": "code",
   "execution_count": 150,
   "metadata": {},
   "outputs": [
    {
     "data": {
      "text/plain": [
       "'1.234560, 1.234560, 01.23'"
      ]
     },
     "execution_count": 150,
     "metadata": {},
     "output_type": "execute_result"
    }
   ],
   "source": [
    "'{0:f}, {1:2f}, {2:05.2f}'.format(1.23456, 1.23456, 1.23456)"
   ]
  },
  {
   "cell_type": "markdown",
   "metadata": {},
   "source": [
    "### 31. Write down the output of each line after each iterations. Do multiple experiments to change values\n",
    "    i = 1\n",
    "    while False:\n",
    "    if i%2 == 0:\n",
    "    break\n",
    "    print(i)\n",
    "    i += 2"
   ]
  },
  {
   "cell_type": "code",
   "execution_count": 2,
   "metadata": {},
   "outputs": [],
   "source": [
    "i = 1\n",
    "while False: # loop doesnt run because of False condition\n",
    "    if i%2 == 0:\n",
    "        break    \n",
    "    print(i)\n",
    "    i += 2"
   ]
  },
  {
   "cell_type": "code",
   "execution_count": 1,
   "metadata": {},
   "outputs": [
    {
     "name": "stdout",
     "output_type": "stream",
     "text": [
      "1\n",
      "3\n",
      "5\n",
      "7\n",
      "9\n"
     ]
    }
   ],
   "source": [
    "i = 1\n",
    "while i<10: \n",
    "    if i%2 == 0:\n",
    "        break    \n",
    "    print(i)\n",
    "    i += 2"
   ]
  },
  {
   "cell_type": "code",
   "execution_count": 4,
   "metadata": {},
   "outputs": [
    {
     "name": "stdout",
     "output_type": "stream",
     "text": [
      "1\n",
      "3\n",
      "5\n",
      "7\n",
      "9\n"
     ]
    }
   ],
   "source": [
    "i = 1\n",
    "while i<10: \n",
    "    if i%2 == 0:\n",
    "        print(\"j\")\n",
    "        print(\"hhjjb\")\n",
    "        break    \n",
    "    print(i)\n",
    "    i += 2 "
   ]
  },
  {
   "cell_type": "code",
   "execution_count": 7,
   "metadata": {},
   "outputs": [
    {
     "name": "stdout",
     "output_type": "stream",
     "text": [
      "5\n"
     ]
    }
   ],
   "source": [
    "i = 5\n",
    "while i<10: \n",
    "    if i%2 == 1:\n",
    "        print(i)\n",
    "        break    \n",
    "    print(i)\n",
    "    i += 2 "
   ]
  },
  {
   "cell_type": "code",
   "execution_count": 8,
   "metadata": {},
   "outputs": [
    {
     "name": "stdout",
     "output_type": "stream",
     "text": [
      "2\n",
      "4\n",
      "6\n",
      "8\n"
     ]
    }
   ],
   "source": [
    "i = 2\n",
    "while i<10: \n",
    "    if i%2 == 1:\n",
    "        print(i)\n",
    "        break    \n",
    "    print(i)\n",
    "    i += 2 "
   ]
  },
  {
   "cell_type": "markdown",
   "metadata": {},
   "source": [
    "### 32. Write down the output of each line after each iterations. Do multiple experiments to change values\n",
    "    x = \"abcdef\"\n",
    "    i = \"a\"\n",
    "    while i in x:\n",
    "    x = x[:-1]\n",
    "    print(i, end = \" \")"
   ]
  },
  {
   "cell_type": "code",
   "execution_count": 9,
   "metadata": {},
   "outputs": [
    {
     "name": "stdout",
     "output_type": "stream",
     "text": [
      "a a a a a a "
     ]
    }
   ],
   "source": [
    "x = \"abcdef\"\n",
    "i = \"a\"\n",
    "while i in x:\n",
    "    x = x[:-1]\n",
    "    print(i, end = \" \")"
   ]
  },
  {
   "cell_type": "code",
   "execution_count": 3,
   "metadata": {},
   "outputs": [
    {
     "name": "stdout",
     "output_type": "stream",
     "text": [
      "a\ta\t"
     ]
    }
   ],
   "source": [
    "x = \"abcdef\"\n",
    "i = \"a\"\n",
    "while i in x: # its true as long as \"a\" is in string x\n",
    "   x = x[:-4] # ab\n",
    "   print(i, end = \"\\t\")"
   ]
  },
  {
   "cell_type": "code",
   "execution_count": 4,
   "metadata": {},
   "outputs": [
    {
     "name": "stdout",
     "output_type": "stream",
     "text": [
      "i\ti\t"
     ]
    }
   ],
   "source": [
    "    #012345\n",
    "x = \"abcdef\"\n",
    "  #-6-5-4-3-2-1\n",
    "i = \"a\"\n",
    "while i in x: # its true as long as \"a\" is in string x\n",
    "   x = x[:-4] # ab\n",
    "   print(\"i\", end = \"\\t\")"
   ]
  },
  {
   "cell_type": "code",
   "execution_count": 1,
   "metadata": {},
   "outputs": [
    {
     "name": "stdout",
     "output_type": "stream",
     "text": [
      "i\t"
     ]
    }
   ],
   "source": [
    "x = \"abcdef\"\n",
    "i = \"a\"\n",
    "while i in x: # its true as long as \"a\" is in string x\n",
    "   x = x[3:] # ab\n",
    "   print(\"i\", end = \"\\t\")"
   ]
  },
  {
   "cell_type": "markdown",
   "metadata": {},
   "source": [
    "### 33. Write down the output of each line after each iterations. Do multiple experiments to change values\n",
    "    for i in ''.join(reversed(list('abcd'))):\n",
    "    print (i)"
   ]
  },
  {
   "cell_type": "code",
   "execution_count": 4,
   "metadata": {},
   "outputs": [
    {
     "name": "stdout",
     "output_type": "stream",
     "text": [
      "d\n",
      "c\n",
      "b\n",
      "a\n"
     ]
    }
   ],
   "source": [
    "for i in ''.join(reversed(list('abcd'))):\n",
    "    print(i)"
   ]
  },
  {
   "cell_type": "code",
   "execution_count": 7,
   "metadata": {},
   "outputs": [
    {
     "name": "stdout",
     "output_type": "stream",
     "text": [
      "a\n",
      "b\n",
      "c\n",
      "d\n"
     ]
    }
   ],
   "source": [
    "for i in ''.join(list('abcd')):\n",
    "    print(i)"
   ]
  },
  {
   "cell_type": "code",
   "execution_count": 16,
   "metadata": {},
   "outputs": [
    {
     "name": "stdout",
     "output_type": "stream",
     "text": [
      "1\n",
      "2\n",
      "3\n"
     ]
    }
   ],
   "source": [
    "for i in ''.join(list('123')):\n",
    "    print(i)"
   ]
  },
  {
   "cell_type": "code",
   "execution_count": 20,
   "metadata": {},
   "outputs": [
    {
     "name": "stdout",
     "output_type": "stream",
     "text": [
      "1\n",
      "3\n"
     ]
    }
   ],
   "source": [
    "list1 = [\"1\",\"3\"]\n",
    "for i in ''.join(list1):\n",
    "    print(i)"
   ]
  },
  {
   "cell_type": "markdown",
   "metadata": {},
   "source": [
    "### 34. Flow of the program. Write the output of each line after every iteration of ‘i’\n",
    "    for i in range(10):\n",
    "    if i == 5:\n",
    "    break\n",
    "    else:\n",
    "    print(i)\n",
    "    else:\n",
    "    print(\"Here\")"
   ]
  },
  {
   "cell_type": "code",
   "execution_count": 25,
   "metadata": {},
   "outputs": [
    {
     "name": "stdout",
     "output_type": "stream",
     "text": [
      "0\n",
      "1\n",
      "2\n",
      "3\n",
      "4\n"
     ]
    }
   ],
   "source": [
    "for i in range(10):\n",
    "    if i == 5:\n",
    "        break\n",
    "    else:\n",
    "        print(i)\n",
    "else:\n",
    "    print(\"Here\")"
   ]
  },
  {
   "cell_type": "markdown",
   "metadata": {},
   "source": [
    "### 35. What is the output? And understand the functionality of lambda function\n",
    "    y = 6\n",
    "    z = lambda x: x * y\n",
    "    print z(8)"
   ]
  },
  {
   "cell_type": "code",
   "execution_count": 30,
   "metadata": {},
   "outputs": [
    {
     "name": "stdout",
     "output_type": "stream",
     "text": [
      "48\n"
     ]
    }
   ],
   "source": [
    "y = 6\n",
    "z = lambda x: x * y # one argument can be taken and multiplication is done using that argument\n",
    "print(z(8))"
   ]
  },
  {
   "cell_type": "code",
   "execution_count": 32,
   "metadata": {},
   "outputs": [
    {
     "name": "stdout",
     "output_type": "stream",
     "text": [
      "[['a', 1], ['b', 3]]\n"
     ]
    }
   ],
   "source": [
    "l1 =[['a',1],['b',3]]\n",
    "l1.sort(key=lambda l1:l1[1])\n",
    "print(l1)"
   ]
  },
  {
   "cell_type": "code",
   "execution_count": 33,
   "metadata": {},
   "outputs": [
    {
     "name": "stdout",
     "output_type": "stream",
     "text": [
      "58\n"
     ]
    }
   ],
   "source": [
    "y = 6\n",
    "z = lambda x: x * y +10 # one argument can be taken and multiplication is done using that argument\n",
    "print(z(8))"
   ]
  },
  {
   "cell_type": "markdown",
   "metadata": {},
   "source": [
    "### 36. Write output and give proper logic of whatever the output comes.\n",
    "    i=0\n",
    "    def change(i):\n",
    "    i=i+1\n",
    "    return i\n",
    "    change(1)\n",
    "    print(i)"
   ]
  },
  {
   "cell_type": "code",
   "execution_count": 38,
   "metadata": {},
   "outputs": [
    {
     "name": "stdout",
     "output_type": "stream",
     "text": [
      "0\n"
     ]
    }
   ],
   "source": [
    "i=0\n",
    "def change(i):\n",
    "    i=i+1\n",
    "    return i\n",
    "change(1) # this is a calling function of return type it doesnt print anything as its not stored in a variable to print\n",
    "print(i) # this prints the initialized value of i"
   ]
  },
  {
   "cell_type": "markdown",
   "metadata": {},
   "source": [
    "### 40. What will be output? Define this output clearly\n",
    "    def change(one, *two):\n",
    "    print(type(two))\n",
    "    print(two)\n",
    "    change(1,2,3,4)"
   ]
  },
  {
   "cell_type": "code",
   "execution_count": 39,
   "metadata": {},
   "outputs": [
    {
     "name": "stdout",
     "output_type": "stream",
     "text": [
      "<class 'tuple'>\n",
      "(2, 3, 4)\n"
     ]
    }
   ],
   "source": [
    "def change(one, *two): # one positional argument with two as multiple positional arguments\n",
    "    print(type(two)) # type of argument received is tuple\n",
    "    print(two) # prints the multiple parameters passed after assigning 1 to the one positional argument  \n",
    "change(1,2,3,4)"
   ]
  },
  {
   "cell_type": "markdown",
   "metadata": {},
   "source": [
    "### 41. What will be output? Define this output clearly\n",
    "    def find(a, **b):\n",
    "    print(type(b))\n",
    "    find('letters',A='1',B='2')"
   ]
  },
  {
   "cell_type": "code",
   "execution_count": 40,
   "metadata": {},
   "outputs": [
    {
     "name": "stdout",
     "output_type": "stream",
     "text": [
      "<class 'dict'>\n"
     ]
    }
   ],
   "source": [
    "def find(a, **b):\n",
    "    print(type(b)) # prints the type of argument b which is for multiple keyword arguments they are considered a dictionary\n",
    "find('letters',A='1',B='2')"
   ]
  },
  {
   "cell_type": "markdown",
   "metadata": {},
   "source": [
    "### 42. Write output and define each line’s output for each iteration of ‘i’\n",
    "    def foo(i, x=[]):\n",
    "    x.append(i)\n",
    "    return x\n",
    "    for i in range(3):\n",
    "    print(foo(i))"
   ]
  },
  {
   "cell_type": "code",
   "execution_count": 41,
   "metadata": {},
   "outputs": [
    {
     "name": "stdout",
     "output_type": "stream",
     "text": [
      "[0]\n",
      "[0, 1]\n",
      "[0, 1, 2]\n"
     ]
    }
   ],
   "source": [
    "def foo(i, x=[]): # positional and key argument is passed x is  a default argument empty list\n",
    "    x.append(i) # x= [0] , x= [0,1], x=[0,1,2]\n",
    "    return x   #[0] [0,1] then [0,1,2] is returned at the end\n",
    "for i in range(3): # for loop will run first from 0 to 2\n",
    "    print(foo(i)) # this will call the foo() function foo(0) then foo(1) then foo(2)"
   ]
  },
  {
   "cell_type": "markdown",
   "metadata": {},
   "source": [
    "### 43. Evaluate the following Python arithmetic expression: and write which segment will execute first?\n",
    "    (Brackets, Exponents, Multiplication, Addition / Subtraction, Left to right rule)"
   ]
  },
  {
   "cell_type": "code",
   "execution_count": 45,
   "metadata": {},
   "outputs": [
    {
     "name": "stdout",
     "output_type": "stream",
     "text": [
      "15\n"
     ]
    }
   ],
   "source": [
    "print(3*(1+2)**2-(2**2)*3) \n",
    "#1 (1+2) = 3 \n",
    "#2 (2**2) = 4\n",
    "#3 3**2 = 9\n",
    "#4 3*9-4*3\n",
    "#5 3*9 = 27\n",
    "#6 4*3\n",
    "#7 27-12 =15"
   ]
  },
  {
   "cell_type": "markdown",
   "metadata": {},
   "source": [
    "### 44.You are creating a function that manipulates a number. The function has the following requirements:\n",
    "    .\n",
    "    A float is passed into the function\n",
    "    .\n",
    "    The function must take the absolute value of the float\n",
    "    .\n",
    "    Any decimal points after the integer must be removed\n",
    "    A.\n",
    "    math.fmod(x)\n",
    "    B.\n",
    "    math.frexp(x)\n",
    "    C.\n",
    "    math.floor(x)\n",
    "    D.\n",
    "    math.ceil(x)\n",
    "    E.\n",
    "    math.fabs(x)"
   ]
  },
  {
   "cell_type": "code",
   "execution_count": 56,
   "metadata": {},
   "outputs": [
    {
     "name": "stdout",
     "output_type": "stream",
     "text": [
      "3.23\n",
      "3\n"
     ]
    }
   ],
   "source": [
    "import math\n",
    "\n",
    "print(math.fabs(3.23))\n",
    "print(math.floor(3.6))"
   ]
  },
  {
   "cell_type": "markdown",
   "metadata": {},
   "source": [
    "### 45. You are writing code that generates a random integer with a minimum value of 5 and a maximum value of         11.\n",
    "    Which two functions should you use? Each correct answer presents a complete solution. (Choose two.)\n",
    "    B.\n",
    "    random.randint(5, 11)\n",
    "    D.\n",
    "    random.randrange(5, 11, 1)"
   ]
  },
  {
   "cell_type": "markdown",
   "metadata": {},
   "source": [
    "### 46. Write a program that receives marks from user and check the grade.\n",
    "    Marks greater than equal to 90 then A grade\n",
    "    Marks between 80 to 90, B grade\n",
    "    Marks between 70 to 80, C grade\n",
    "    Marks between 60 to 70, D grade\n",
    "    Marks less than equal to 60 then E grade"
   ]
  },
  {
   "cell_type": "code",
   "execution_count": 59,
   "metadata": {},
   "outputs": [
    {
     "name": "stdout",
     "output_type": "stream",
     "text": [
      "Enter marks: 89\n",
      "B grade\n"
     ]
    }
   ],
   "source": [
    "Marks = int(input(\"Enter marks: \"))\n",
    "if Marks >= 90:\n",
    "    print(\"A grade\")\n",
    "elif Marks >=80:\n",
    "    print(\"B grade\")\n",
    "elif Marks >=70:\n",
    "    print(\"C grade\")\n",
    "elif Marks >= 60:\n",
    "    print(\"D grade\")\n",
    "else:\n",
    "    if Marks <=60:\n",
    "        print(\"E grade\")"
   ]
  }
 ],
 "metadata": {
  "kernelspec": {
   "display_name": "Python 3",
   "language": "python",
   "name": "python3"
  },
  "language_info": {
   "codemirror_mode": {
    "name": "ipython",
    "version": 3
   },
   "file_extension": ".py",
   "mimetype": "text/x-python",
   "name": "python",
   "nbconvert_exporter": "python",
   "pygments_lexer": "ipython3",
   "version": "3.7.0"
  }
 },
 "nbformat": 4,
 "nbformat_minor": 2
}
