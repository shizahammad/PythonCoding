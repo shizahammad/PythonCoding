{
 "cells": [
  {
   "cell_type": "markdown",
   "metadata": {},
   "source": [
    "# List"
   ]
  },
  {
   "cell_type": "code",
   "execution_count": 5,
   "metadata": {},
   "outputs": [
    {
     "name": "stdout",
     "output_type": "stream",
     "text": [
      "['python', 'c#', 'c++', 'java']\n",
      "['python', 'c#', 'c++', 'java', 'c', 'R', 'android']\n"
     ]
    }
   ],
   "source": [
    "list1 = [\"python\",\"c#\",\"c++\",\"java\"]\n",
    "print(list1)\n",
    "new_list=list1+[\"c\",\"R\",\"android\"] #concatenation\n",
    "print(new_list)"
   ]
  },
  {
   "cell_type": "markdown",
   "metadata": {},
   "source": [
    "# indexing & slicing\n",
    "##### “Indexing” means referring to an element of an iterable by its position within the iterable. “Slicing” means getting a subset of elements from an iterable based on their indices."
   ]
  },
  {
   "cell_type": "code",
   "execution_count": 6,
   "metadata": {},
   "outputs": [
    {
     "name": "stdout",
     "output_type": "stream",
     "text": [
      "['c#', 'c++', 'java']\n"
     ]
    }
   ],
   "source": [
    "print(new_list[1:4])"
   ]
  },
  {
   "cell_type": "code",
   "execution_count": 10,
   "metadata": {},
   "outputs": [
    {
     "name": "stdout",
     "output_type": "stream",
     "text": [
      "['c#', 'java', 'R']\n"
     ]
    }
   ],
   "source": [
    "print(new_list[1::2]) # steps will take the 1st element and after counting steps will take those elements"
   ]
  },
  {
   "cell_type": "code",
   "execution_count": 13,
   "metadata": {},
   "outputs": [
    {
     "name": "stdout",
     "output_type": "stream",
     "text": [
      "['python', 'c++']\n"
     ]
    }
   ],
   "source": [
    "print(new_list[:4:2])"
   ]
  },
  {
   "cell_type": "code",
   "execution_count": 16,
   "metadata": {},
   "outputs": [
    {
     "name": "stdout",
     "output_type": "stream",
     "text": [
      "['java', 'c', 'R']\n"
     ]
    }
   ],
   "source": [
    "print(new_list[-4:-1])"
   ]
  },
  {
   "cell_type": "code",
   "execution_count": 17,
   "metadata": {},
   "outputs": [
    {
     "name": "stdout",
     "output_type": "stream",
     "text": [
      "[]\n"
     ]
    }
   ],
   "source": [
    "print(new_list[-1:-4])"
   ]
  },
  {
   "cell_type": "code",
   "execution_count": 18,
   "metadata": {},
   "outputs": [
    {
     "name": "stdout",
     "output_type": "stream",
     "text": [
      "['R', 'c']\n"
     ]
    }
   ],
   "source": [
    "print(new_list[-2:-4:-1])"
   ]
  },
  {
   "cell_type": "code",
   "execution_count": 19,
   "metadata": {},
   "outputs": [
    {
     "name": "stdout",
     "output_type": "stream",
     "text": [
      "[]\n"
     ]
    }
   ],
   "source": [
    "print(new_list[-2:-4:1])"
   ]
  },
  {
   "cell_type": "code",
   "execution_count": 20,
   "metadata": {},
   "outputs": [
    {
     "name": "stdout",
     "output_type": "stream",
     "text": [
      "['python', 'c#', 'c++', 'java', 'c', 'R', 'android']\n",
      "['python', 'c#', 'c++', 'java', 'c', 'R', 'android']\n",
      "['python', 'c#', 'c++', 'java', 'c', 'R', 'android']\n",
      "['python', 'c#', 'c++', 'java', 'c', 'R', 'android']\n"
     ]
    }
   ],
   "source": [
    "print(new_list[::])\n",
    "print(new_list)\n",
    "print(new_list[:])\n",
    "print(new_list[0:])"
   ]
  },
  {
   "cell_type": "code",
   "execution_count": 21,
   "metadata": {},
   "outputs": [
    {
     "name": "stdout",
     "output_type": "stream",
     "text": [
      "['python', 'c#', 'c++', 'java', 'c', 'R', 'android', 'IOS']\n"
     ]
    }
   ],
   "source": [
    "# for appending\n",
    "new_list.append(\"IOS\")\n",
    "print(new_list)"
   ]
  },
  {
   "cell_type": "code",
   "execution_count": 23,
   "metadata": {},
   "outputs": [
    {
     "name": "stdout",
     "output_type": "stream",
     "text": [
      "['python', 'c#', 'c++', 'java', 'c', 'R', 'android']\n"
     ]
    }
   ],
   "source": [
    "#for deleting\n",
    "del new_list[7] # for the del built in function only integer indices can be used or slices\n",
    "print(new_list)"
   ]
  },
  {
   "cell_type": "code",
   "execution_count": 24,
   "metadata": {},
   "outputs": [
    {
     "name": "stdout",
     "output_type": "stream",
     "text": [
      "['python', 'c#', 'c++', 'java', 'c', 'R']\n"
     ]
    }
   ],
   "source": [
    "# for using \"remove\" built in function\n",
    "new_list.remove(\"android\") # with remove built in function element name can be used\n",
    "print(new_list)"
   ]
  },
  {
   "cell_type": "code",
   "execution_count": 33,
   "metadata": {},
   "outputs": [
    {
     "name": "stdout",
     "output_type": "stream",
     "text": [
      "['python', 'c#', 'c++', 'android']\n"
     ]
    }
   ],
   "source": [
    "# insert function\n",
    "new_list.insert(3,\"android\")\n",
    "print(new_list)"
   ]
  },
  {
   "cell_type": "code",
   "execution_count": 34,
   "metadata": {},
   "outputs": [
    {
     "name": "stdout",
     "output_type": "stream",
     "text": [
      "['python', 'c#', 'c++', 'java']\n"
     ]
    }
   ],
   "source": [
    "# to replace\n",
    "new_list[3]= \"java\"\n",
    "print(new_list)"
   ]
  },
  {
   "cell_type": "markdown",
   "metadata": {},
   "source": [
    "# if_else"
   ]
  },
  {
   "cell_type": "code",
   "execution_count": 38,
   "metadata": {},
   "outputs": [
    {
     "name": "stdout",
     "output_type": "stream",
     "text": [
      "Enter person's city:islamabad\n",
      "IK\n"
     ]
    }
   ],
   "source": [
    "person = input(\"Enter person's city:\")\n",
    "if person == \"karachi\":\n",
    "    print(\"imran bhai\")\n",
    "elif person ==\"peshawar\":\n",
    "    print(\"kaan saib\")\n",
    "elif person ==\"faislabad\":\n",
    "     print(\"Mraan khan\")  \n",
    "elif person ==\"islamabad\":\n",
    "     print(\"IK\")  \n",
    "else:\n",
    "     print(\"Imran Khan\")         \n",
    "    "
   ]
  },
  {
   "cell_type": "code",
   "execution_count": 50,
   "metadata": {},
   "outputs": [
    {
     "name": "stdout",
     "output_type": "stream",
     "text": [
      "Direct Marketing\n"
     ]
    }
   ],
   "source": [
    "initiative = 'You' #Friend or Girl\n",
    "rich = True\n",
    "slap = False\n",
    "if initiative == 'You':\n",
    "    if rich == True and slap == True:\n",
    "        print('Cusomter Feedback')\n",
    "    elif rich == True and slap == False:\n",
    "        print('Direct Marketing')\n",
    "    elif husband == True:\n",
    "        print('Demand Supply Gap')\n",
    "    \n",
    "        \n",
    "elif initiative == 'Friend':\n",
    "    pass\n",
    "elif initiative == 'Girl':\n",
    "    pass"
   ]
  },
  {
   "cell_type": "markdown",
   "metadata": {},
   "source": [
    "# for loop"
   ]
  },
  {
   "cell_type": "code",
   "execution_count": 41,
   "metadata": {},
   "outputs": [
    {
     "name": "stdout",
     "output_type": "stream",
     "text": [
      "1\n",
      "2\n",
      "3\n",
      "4\n",
      "5\n",
      "6\n",
      "7\n",
      "8\n",
      "9\n"
     ]
    }
   ],
   "source": [
    "for i in range(1,10):\n",
    "    print(i)"
   ]
  },
  {
   "cell_type": "code",
   "execution_count": 42,
   "metadata": {},
   "outputs": [
    {
     "name": "stdout",
     "output_type": "stream",
     "text": [
      "1\n",
      "4\n",
      "7\n"
     ]
    }
   ],
   "source": [
    "for i in range(1,10,3):\n",
    "    print(i)"
   ]
  },
  {
   "cell_type": "code",
   "execution_count": 49,
   "metadata": {},
   "outputs": [
    {
     "name": "stdout",
     "output_type": "stream",
     "text": [
      "['python', 'c#', 'c++', 'java']\n",
      "not found\n",
      "['python', 'c#', 'c++', 'java']\n",
      "not found\n",
      "['python', 'c#', 'c++', 'java']\n",
      "not found\n",
      "['python', 'c#', 'c++', 'java']\n",
      "found on index 3\n"
     ]
    }
   ],
   "source": [
    "#find item in list\n",
    "for lang in range(0,len(new_list)):\n",
    "    print(new_list)\n",
    "    if(\"java\") == new_list[lang]:\n",
    "        print(\"found on index\"+\" \"+str(lang))\n",
    "    else:\n",
    "        print(\"not found\")\n",
    "        "
   ]
  },
  {
   "cell_type": "markdown",
   "metadata": {},
   "source": [
    "# CLASS TASKS"
   ]
  },
  {
   "cell_type": "markdown",
   "metadata": {},
   "source": [
    "##### Write python program to check whether number is poitive or negative"
   ]
  },
  {
   "cell_type": "code",
   "execution_count": 53,
   "metadata": {},
   "outputs": [
    {
     "name": "stdout",
     "output_type": "stream",
     "text": [
      "Enter number:-6\n",
      "negative\n"
     ]
    }
   ],
   "source": [
    "var = int(input(\"Enter number:\"))\n",
    "if(var >= 0):\n",
    "    print(\"positive\")\n",
    "else:\n",
    "    print(\"negative\")"
   ]
  },
  {
   "cell_type": "markdown",
   "metadata": {},
   "source": [
    "#### Write python program to take in the marks of 5 subjects and display grade"
   ]
  },
  {
   "cell_type": "code",
   "execution_count": 55,
   "metadata": {},
   "outputs": [
    {
     "name": "stdout",
     "output_type": "stream",
     "text": [
      "Enter Math marks:54\n",
      "Enter chemistry marks:56\n",
      "Enter biology marks:78\n",
      "Enter computer marks:57\n",
      "Enter physics marks:89\n",
      "A\n"
     ]
    }
   ],
   "source": [
    "\n",
    "Math = int(input(\"Enter Math marks:\"))\n",
    "Chem = int(input(\"Enter chemistry marks:\"))\n",
    "Bio  = int(input(\"Enter biology marks:\"))\n",
    "Comp = int(input(\"Enter computer marks:\"))\n",
    "Phy = int(input(\"Enter physics marks:\"))\n",
    "\n",
    "Avg = (Math+Chem+Bio+Comp+Phy)/2\n",
    "if (Avg >= 80):\n",
    "    print(\"A\")\n",
    "elif(Avg >= 70):\n",
    "    print(\"B\")   \n",
    "elif(Avg >= 60):\n",
    "    print(\"C\")     \n",
    "else:\n",
    "    print(\"fail\")    "
   ]
  },
  {
   "cell_type": "markdown",
   "metadata": {},
   "source": [
    "##### Write python program to read two numbers and print their quotient and remainder"
   ]
  },
  {
   "cell_type": "code",
   "execution_count": 61,
   "metadata": {},
   "outputs": [
    {
     "name": "stdout",
     "output_type": "stream",
     "text": [
      "Enter num1:8\n",
      "Enter num2:4\n",
      "2.0\n",
      "0\n"
     ]
    }
   ],
   "source": [
    "num1 = int(input(\"Enter num1:\"))\n",
    "num2 = int(input(\"Enter num2:\"))\n",
    "print(num1/num2) # to get quotient\n",
    "print(num1%num2) # to get remainder"
   ]
  },
  {
   "cell_type": "markdown",
   "metadata": {},
   "source": [
    "##### Write program in python to print all integers that arent divisible by either 2 or 3 and lie b/w 1 and 50"
   ]
  },
  {
   "cell_type": "code",
   "execution_count": 72,
   "metadata": {},
   "outputs": [
    {
     "name": "stdout",
     "output_type": "stream",
     "text": [
      "1\n",
      "5\n",
      "7\n",
      "11\n",
      "13\n",
      "17\n",
      "19\n",
      "23\n",
      "25\n",
      "29\n",
      "31\n",
      "35\n",
      "37\n",
      "41\n",
      "43\n",
      "47\n",
      "49\n"
     ]
    }
   ],
   "source": [
    "for x in range(0,51):\n",
    "    if(x%2 != 0) & (x%3 != 0):\n",
    "        print(x)\n",
    "    \n",
    "        \n",
    "        \n",
    " "
   ]
  },
  {
   "cell_type": "markdown",
   "metadata": {},
   "source": [
    "##### Write python program to exchange values of two numbers without using a temporary variable"
   ]
  },
  {
   "cell_type": "code",
   "execution_count": 81,
   "metadata": {},
   "outputs": [
    {
     "name": "stdout",
     "output_type": "stream",
     "text": [
      "enter num1:56\n",
      "enter num2:89\n",
      "145\n",
      "56\n",
      "89\n",
      "num1: 89\n",
      "num2: 56\n"
     ]
    }
   ],
   "source": [
    "n1 = int(input(\"enter num1:\"))\n",
    "n2 = int(input(\"enter num2:\"))\n",
    "n1 = n1 + n2\n",
    "print(n1)\n",
    "n2 = n1 - n2\n",
    "print(n2)\n",
    "n1 = n1 - n2\n",
    "print(n1)\n",
    "print(\"num1:\",n1)\n",
    "print(\"num2:\",n2)"
   ]
  },
  {
   "cell_type": "markdown",
   "metadata": {},
   "source": [
    "##### Write python program to find the area of a triangle given all three sides"
   ]
  },
  {
   "cell_type": "code",
   "execution_count": 84,
   "metadata": {},
   "outputs": [
    {
     "name": "stdout",
     "output_type": "stream",
     "text": [
      "Enter side a:3\n",
      "Enter side b:4\n",
      "Enter side c:5\n",
      "6.0\n"
     ]
    }
   ],
   "source": [
    "import math\n",
    "a = int(input(\"Enter side a:\"))\n",
    "b = int(input(\"Enter side b:\"))\n",
    "c = int(input(\"Enter side c:\"))\n",
    "s = (a+b+c)/2\n",
    "Area = math.sqrt(s*(s-a)*(s-b)*(s-c))\n",
    "print(Area)"
   ]
  },
  {
   "cell_type": "markdown",
   "metadata": {},
   "source": [
    "#### Write python program to print largest even and largest odd number in a list"
   ]
  },
  {
   "cell_type": "code",
   "execution_count": 5,
   "metadata": {},
   "outputs": [
    {
     "name": "stdout",
     "output_type": "stream",
     "text": [
      "Enter number of elements:7\n",
      "34\n",
      "45\n",
      "6\n",
      "8\n",
      "9\n",
      "54\n",
      "3\n",
      "[34, 45, 6, 8, 9, 54, 3]\n",
      "Even elements [34, 6, 8, 54] Length of list 4\n",
      "Odd elements  [45, 9, 3] Length of list 3\n",
      "54\n",
      "45\n"
     ]
    }
   ],
   "source": [
    "list = []\n",
    "even = []\n",
    "odd = []\n",
    "n = int(input(\"Enter number of elements:\"))\n",
    "for i in range(0,n):\n",
    "    ele = int(input())\n",
    "    list.append(ele)\n",
    "print(list)    \n",
    "for x in range(0,len(list)):\n",
    "    if(list[x]%2==0):\n",
    "        even.append(list[x])\n",
    "    else:\n",
    "        odd.append(list[x])\n",
    "\n",
    "print(\"Even elements\",even,\"Length of list\",len(even))\n",
    "print(\"Odd elements \", odd, \"Length of list\",len(odd))\n",
    "even.sort()\n",
    "print(even[-1])\n",
    "odd.sort()\n",
    "print(odd[-1])"
   ]
  },
  {
   "cell_type": "markdown",
   "metadata": {},
   "source": [
    "#### Write python program to find the second largest number in a list"
   ]
  },
  {
   "cell_type": "code",
   "execution_count": 6,
   "metadata": {},
   "outputs": [
    {
     "name": "stdout",
     "output_type": "stream",
     "text": [
      "Enter number of elements:4\n",
      "2\n",
      "56\n",
      "3\n",
      "8\n",
      "[2, 56, 3, 8]\n",
      "8\n"
     ]
    }
   ],
   "source": [
    "list = []\n",
    "n = int(input(\"Enter number of elements:\"))\n",
    "for i in range(0,n):\n",
    "    ele = int(input())\n",
    "    list.append(ele)\n",
    "print(list)    \n",
    "list.sort()\n",
    "print(list[-2])"
   ]
  },
  {
   "cell_type": "markdown",
   "metadata": {},
   "source": [
    "##### Program for finding the union of two lists"
   ]
  },
  {
   "cell_type": "code",
   "execution_count": 11,
   "metadata": {},
   "outputs": [
    {
     "name": "stdout",
     "output_type": "stream",
     "text": [
      "Enter number of elements for list1:4\n",
      "Enter number of elements for list2:5\n",
      "For list1:\n",
      "Enter element1:3\n",
      "Enter element2:6\n",
      "Enter element3:8\n",
      "Enter element4:46\n",
      "For list2:\n",
      "Enter element1:4\n",
      "Enter element2:74\n",
      "Enter element3:7\n",
      "Enter element4:3\n",
      "Enter element5:6\n",
      "The union is :\n",
      "[3, 3, 4, 6, 6, 7, 8, 46, 74]\n"
     ]
    }
   ],
   "source": [
    "def union(lst1,lst2):\n",
    "    final_list = sorted(lst1 + lst2) \n",
    "    return final_list \n",
    "\n",
    "def main():\n",
    "    alist=[]\n",
    "    blist=[]\n",
    "    n1=int(input(\"Enter number of elements for list1:\"))\n",
    "    n2=int(input(\"Enter number of elements for list2:\"))\n",
    "    print(\"For list1:\")\n",
    "    for x in range(0,n1):\n",
    "        element=int(input(\"Enter element\" + str(x+1) + \":\"))\n",
    "        alist.append(element)\n",
    "    print(\"For list2:\")\n",
    "    for x in range(0,n2):\n",
    "        element=int(input(\"Enter element\" + str(x+1) + \":\"))\n",
    "        blist.append(element)\n",
    "    print(\"The union is :\")\n",
    "    print(union(alist, blist))\n",
    "main()"
   ]
  },
  {
   "cell_type": "markdown",
   "metadata": {},
   "source": [
    "##### Program for finding the intersection of two lists"
   ]
  },
  {
   "cell_type": "code",
   "execution_count": 1,
   "metadata": {},
   "outputs": [
    {
     "name": "stdout",
     "output_type": "stream",
     "text": [
      "Enter number of elements for list1:4\n",
      "Enter number of elements for list2:5\n",
      "For list1:\n",
      "Enter element1:45\n",
      "Enter element2:6\n",
      "Enter element3:4\n",
      "Enter element4:4\n",
      "For list2:\n",
      "Enter element1:5\n",
      "Enter element2:64\n",
      "Enter element3:4\n",
      "Enter element4:5\n",
      "Enter element5:3\n",
      "The union is :\n",
      "[4]\n"
     ]
    }
   ],
   "source": [
    "def intersection(lst1,lst2):\n",
    "    return set(lst1) & set(lst2)     # & is used for intersection and | or for union\n",
    "\n",
    "def main():\n",
    "    alist=[]\n",
    "    blist=[]\n",
    "    n1=int(input(\"Enter number of elements for list1:\"))\n",
    "    n2=int(input(\"Enter number of elements for list2:\"))\n",
    "    print(\"For list1:\")\n",
    "    for x in range(0,n1):\n",
    "        element=int(input(\"Enter element\" + str(x+1) + \":\"))\n",
    "        alist.append(element)\n",
    "    print(\"For list2:\")\n",
    "    for x in range(0,n2):\n",
    "        element=int(input(\"Enter element\" + str(x+1) + \":\"))\n",
    "        blist.append(element)\n",
    "    print(\"The union is :\")\n",
    "    print(list(intersection(alist, blist)))\n",
    "main()"
   ]
  },
  {
   "cell_type": "markdown",
   "metadata": {},
   "source": []
  }
 ],
 "metadata": {
  "kernelspec": {
   "display_name": "Python 3",
   "language": "python",
   "name": "python3"
  },
  "language_info": {
   "codemirror_mode": {
    "name": "ipython",
    "version": 3
   },
   "file_extension": ".py",
   "mimetype": "text/x-python",
   "name": "python",
   "nbconvert_exporter": "python",
   "pygments_lexer": "ipython3",
   "version": "3.7.0"
  }
 },
 "nbformat": 4,
 "nbformat_minor": 2
}
