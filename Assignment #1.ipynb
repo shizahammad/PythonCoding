{
 "cells": [
  {
   "cell_type": "markdown",
   "metadata": {},
   "source": [
    "# String datatype built-in functions"
   ]
  },
  {
   "cell_type": "markdown",
   "metadata": {},
   "source": [
    "*Roll No : PIAIC56327, Q1, Time: 6:45 PM to 9:45PM* "
   ]
  },
  {
   "cell_type": "code",
   "execution_count": 2,
   "metadata": {},
   "outputs": [
    {
     "name": "stdout",
     "output_type": "stream",
     "text": [
      "My name is Shiza Hammad\n"
     ]
    }
   ],
   "source": [
    "name = \"My name is Shiza Hammad\"\n",
    "print(name)"
   ]
  },
  {
   "cell_type": "code",
   "execution_count": 4,
   "metadata": {},
   "outputs": [
    {
     "data": {
      "text/plain": [
       "['__add__',\n",
       " '__class__',\n",
       " '__contains__',\n",
       " '__delattr__',\n",
       " '__dir__',\n",
       " '__doc__',\n",
       " '__eq__',\n",
       " '__format__',\n",
       " '__ge__',\n",
       " '__getattribute__',\n",
       " '__getitem__',\n",
       " '__getnewargs__',\n",
       " '__gt__',\n",
       " '__hash__',\n",
       " '__init__',\n",
       " '__init_subclass__',\n",
       " '__iter__',\n",
       " '__le__',\n",
       " '__len__',\n",
       " '__lt__',\n",
       " '__mod__',\n",
       " '__mul__',\n",
       " '__ne__',\n",
       " '__new__',\n",
       " '__reduce__',\n",
       " '__reduce_ex__',\n",
       " '__repr__',\n",
       " '__rmod__',\n",
       " '__rmul__',\n",
       " '__setattr__',\n",
       " '__sizeof__',\n",
       " '__str__',\n",
       " '__subclasshook__',\n",
       " 'capitalize',\n",
       " 'casefold',\n",
       " 'center',\n",
       " 'count',\n",
       " 'encode',\n",
       " 'endswith',\n",
       " 'expandtabs',\n",
       " 'find',\n",
       " 'format',\n",
       " 'format_map',\n",
       " 'index',\n",
       " 'isalnum',\n",
       " 'isalpha',\n",
       " 'isascii',\n",
       " 'isdecimal',\n",
       " 'isdigit',\n",
       " 'isidentifier',\n",
       " 'islower',\n",
       " 'isnumeric',\n",
       " 'isprintable',\n",
       " 'isspace',\n",
       " 'istitle',\n",
       " 'isupper',\n",
       " 'join',\n",
       " 'ljust',\n",
       " 'lower',\n",
       " 'lstrip',\n",
       " 'maketrans',\n",
       " 'partition',\n",
       " 'replace',\n",
       " 'rfind',\n",
       " 'rindex',\n",
       " 'rjust',\n",
       " 'rpartition',\n",
       " 'rsplit',\n",
       " 'rstrip',\n",
       " 'split',\n",
       " 'splitlines',\n",
       " 'startswith',\n",
       " 'strip',\n",
       " 'swapcase',\n",
       " 'title',\n",
       " 'translate',\n",
       " 'upper',\n",
       " 'zfill']"
      ]
     },
     "execution_count": 4,
     "metadata": {},
     "output_type": "execute_result"
    }
   ],
   "source": [
    "dir(name)"
   ]
  },
  {
   "cell_type": "markdown",
   "metadata": {},
   "source": [
    "# capitalize"
   ]
  },
  {
   "cell_type": "code",
   "execution_count": 5,
   "metadata": {},
   "outputs": [
    {
     "name": "stdout",
     "output_type": "stream",
     "text": [
      "My name is shiza hammad\n"
     ]
    }
   ],
   "source": [
    "print(name.capitalize()) # make the first charchter have uper case and the rest have lower case"
   ]
  },
  {
   "cell_type": "markdown",
   "metadata": {},
   "source": [
    "# casefold"
   ]
  },
  {
   "cell_type": "code",
   "execution_count": 6,
   "metadata": {},
   "outputs": [
    {
     "name": "stdout",
     "output_type": "stream",
     "text": [
      "my name is shiza hammad\n"
     ]
    }
   ],
   "source": [
    "print(name.casefold()) # makes all the letters caseless"
   ]
  },
  {
   "cell_type": "markdown",
   "metadata": {},
   "source": [
    "# center"
   ]
  },
  {
   "cell_type": "code",
   "execution_count": 7,
   "metadata": {},
   "outputs": [
    {
     "name": "stdout",
     "output_type": "stream",
     "text": [
      "*************My name is Shiza Hammad**************\n",
      "             My name is Shiza Hammad              \n"
     ]
    }
   ],
   "source": [
    "print(name.center(50,'*')) # string is brought to the center & padding can be done with a charchter\n",
    "print(name.center(50))"
   ]
  },
  {
   "cell_type": "markdown",
   "metadata": {},
   "source": [
    "# count"
   ]
  },
  {
   "cell_type": "code",
   "execution_count": 8,
   "metadata": {},
   "outputs": [
    {
     "name": "stdout",
     "output_type": "stream",
     "text": [
      "1\n",
      "1\n"
     ]
    }
   ],
   "source": [
    "print(name.count(\"name\",3,7)) # to count how many times a substring occurs between the given index\n",
    "print(name.count(\"is\")) # substring parameter is mandatory for count method"
   ]
  },
  {
   "cell_type": "markdown",
   "metadata": {},
   "source": [
    "# encode"
   ]
  },
  {
   "cell_type": "code",
   "execution_count": 9,
   "metadata": {},
   "outputs": [
    {
     "name": "stdout",
     "output_type": "stream",
     "text": [
      "b'My name is Shiza Hammad'\n",
      "b'pyth\\xc3\\xb6n!'\n",
      "b'pythn!'\n"
     ]
    }
   ],
   "source": [
    "print(name.encode()) # it returns utf-8 encoded string \n",
    "unicode = \"pythön!\"\n",
    "print(unicode.encode()) # it gives an error when encoding fails\n",
    "print(unicode.encode(\"ascii\",\"ignore\")) # 2 parameters can be given one is for encoding type and the other for error reponse"
   ]
  },
  {
   "cell_type": "markdown",
   "metadata": {},
   "source": [
    "# endswith"
   ]
  },
  {
   "cell_type": "code",
   "execution_count": 16,
   "metadata": {},
   "outputs": [
    {
     "name": "stdout",
     "output_type": "stream",
     "text": [
      "True\n",
      "False\n",
      "False\n",
      "True\n"
     ]
    }
   ],
   "source": [
    "print(name.endswith(\"Hammad\"))# returns true if the string ends with the given suffix otherwise returns false\n",
    "print(name.endswith(\"Hammad.\"))\n",
    "print(name.endswith(\"Shi\",11,16)) # we can also tell where to start and end looking for the suffix\n",
    "print(name.endswith(\"iza\",11,16))"
   ]
  },
  {
   "cell_type": "markdown",
   "metadata": {},
   "source": [
    "# expandtabs"
   ]
  },
  {
   "cell_type": "code",
   "execution_count": 23,
   "metadata": {},
   "outputs": [
    {
     "name": "stdout",
     "output_type": "stream",
     "text": [
      "c\to\td\te\n",
      "c       o       d       e\n",
      "c o d e\n",
      "c         o         d         e\n"
     ]
    }
   ],
   "source": [
    "text = \"c\\to\\td\\te\" # tab spaces included between letters\n",
    "print(text)\n",
    "print(text.expandtabs()) # empty paranthesis will expand upto tab size of 8 characters \n",
    "print(text.expandtabs(1))\n",
    "print(text.expandtabs(10))"
   ]
  },
  {
   "cell_type": "markdown",
   "metadata": {},
   "source": [
    "# find"
   ]
  },
  {
   "cell_type": "code",
   "execution_count": 27,
   "metadata": {},
   "outputs": [
    {
     "name": "stdout",
     "output_type": "stream",
     "text": [
      "My name is Shiza Hammad\n",
      "11\n",
      "4\n"
     ]
    }
   ],
   "source": [
    "print(name)\n",
    "print(name.find(\"Shiza\")) # searches the substring and returns the starting index of substring\n",
    "print(name.find(\"a\",3,17))# it will only return the starting index of the first occuring substring"
   ]
  },
  {
   "cell_type": "markdown",
   "metadata": {},
   "source": [
    "# format"
   ]
  },
  {
   "cell_type": "code",
   "execution_count": 32,
   "metadata": {},
   "outputs": [
    {
     "name": "stdout",
     "output_type": "stream",
     "text": [
      "I am learning python\n"
     ]
    }
   ],
   "source": [
    "text1=\"I am learning {}\"\n",
    "print(text1.format(\"python\")) # can add string or integer values in place of curly braces in string texts"
   ]
  },
  {
   "cell_type": "markdown",
   "metadata": {},
   "source": [
    "# format_map"
   ]
  },
  {
   "cell_type": "code",
   "execution_count": 34,
   "metadata": {},
   "outputs": [
    {
     "name": "stdout",
     "output_type": "stream",
     "text": [
      "maria is 40 years old & she is a computer scientist by profession\n"
     ]
    }
   ],
   "source": [
    "name1 = {'n1':\"maria\", 'profession':[\"doctor\",\"computer scientist\"]} # dictionary created in which 2 key's n1 and n2 are created and values are given\n",
    "age =\"{n1} is 40 years old & she is a {profession[1]} by profession\" \n",
    "print(age.format_map(name1)) # will return dictionarykey value for n1 and profession\n"
   ]
  },
  {
   "cell_type": "markdown",
   "metadata": {},
   "source": [
    "# index"
   ]
  },
  {
   "cell_type": "code",
   "execution_count": 36,
   "metadata": {},
   "outputs": [
    {
     "name": "stdout",
     "output_type": "stream",
     "text": [
      "11\n"
     ]
    }
   ],
   "source": [
    "print(name.index(\"Shiza\")) # returns starting index of substring"
   ]
  },
  {
   "cell_type": "markdown",
   "metadata": {},
   "source": [
    "# isalnum"
   ]
  },
  {
   "cell_type": "code",
   "execution_count": 38,
   "metadata": {},
   "outputs": [
    {
     "name": "stdout",
     "output_type": "stream",
     "text": [
      "False\n",
      "True\n"
     ]
    }
   ],
   "source": [
    "print(name.isalnum()) # if string is alhpa numeric will return true otherwise false\n",
    "alphan = \"Shiza123\"\n",
    "print(alphan.isalnum())"
   ]
  },
  {
   "cell_type": "markdown",
   "metadata": {},
   "source": [
    "# isalpha"
   ]
  },
  {
   "cell_type": "code",
   "execution_count": 43,
   "metadata": {},
   "outputs": [
    {
     "name": "stdout",
     "output_type": "stream",
     "text": [
      "My name is Shiza Hammad\n",
      "False\n",
      "True\n"
     ]
    }
   ],
   "source": [
    "print(name)\n",
    "print(name.isalpha()) # space is not considered to be alphabet so it returns false\n",
    "alphabets = \"abcd\"\n",
    "print(alphabets.isalpha())"
   ]
  },
  {
   "cell_type": "markdown",
   "metadata": {},
   "source": [
    "# isascii"
   ]
  },
  {
   "cell_type": "code",
   "execution_count": 46,
   "metadata": {},
   "outputs": [
    {
     "name": "stdout",
     "output_type": "stream",
     "text": [
      "My name is Shiza Hammad\n",
      "True\n",
      "pythön!\n",
      "False\n"
     ]
    }
   ],
   "source": [
    "print(name)\n",
    "print(name.isascii()) # returns true on empty string or all letters are ascii characters otherwise returns false\n",
    "print(unicode)\n",
    "print(unicode.isascii())"
   ]
  },
  {
   "cell_type": "markdown",
   "metadata": {},
   "source": [
    "# isdecimal"
   ]
  },
  {
   "cell_type": "code",
   "execution_count": 50,
   "metadata": {},
   "outputs": [
    {
     "name": "stdout",
     "output_type": "stream",
     "text": [
      "False\n",
      "True\n",
      "False\n"
     ]
    }
   ],
   "source": [
    "print(name.isdecimal())\n",
    "num1 = \"0123\"\n",
    "num2 = \"12 45\"\n",
    "print(num1.isdecimal()) # returns true if all characters are decimal without spaces otherwise false\n",
    "print(num2.isdecimal()) # returns false for spaces"
   ]
  },
  {
   "cell_type": "markdown",
   "metadata": {},
   "source": [
    "# isdigit"
   ]
  },
  {
   "cell_type": "code",
   "execution_count": 51,
   "metadata": {},
   "outputs": [
    {
     "name": "stdout",
     "output_type": "stream",
     "text": [
      "False\n",
      "True\n"
     ]
    }
   ],
   "source": [
    "print(name.isdigit())\n",
    "print(num1.isdigit()) # returns true if string is a digit"
   ]
  },
  {
   "cell_type": "markdown",
   "metadata": {},
   "source": [
    "# isidentifier"
   ]
  },
  {
   "cell_type": "code",
   "execution_count": 54,
   "metadata": {},
   "outputs": [
    {
     "name": "stdout",
     "output_type": "stream",
     "text": [
      "False\n",
      "False\n",
      "True\n",
      "True\n"
     ]
    }
   ],
   "source": [
    "print(name.isidentifier())\n",
    "print(num1.isidentifier())\n",
    "id1 = \"my_name\"\n",
    "id2 = \"my_age_00\"\n",
    "print(id1.isidentifier()) # returns true if the string value is a valid identifier or variable otherwise false\n",
    "print(id2.isidentifier())"
   ]
  },
  {
   "cell_type": "markdown",
   "metadata": {},
   "source": [
    "# islower"
   ]
  },
  {
   "cell_type": "code",
   "execution_count": 8,
   "metadata": {},
   "outputs": [
    {
     "name": "stdout",
     "output_type": "stream",
     "text": [
      "shiza\n",
      "True\n"
     ]
    }
   ],
   "source": [
    "lower = \"shiza\"\n",
    "print(lower)\n",
    "print(lower.islower()) # return true if string is lowercase otherwise false"
   ]
  },
  {
   "cell_type": "markdown",
   "metadata": {},
   "source": [
    "# isupper"
   ]
  },
  {
   "cell_type": "code",
   "execution_count": 9,
   "metadata": {},
   "outputs": [
    {
     "name": "stdout",
     "output_type": "stream",
     "text": [
      "False\n",
      "True\n"
     ]
    }
   ],
   "source": [
    "print(lower.isupper())\n",
    "upper = \"SHIZA\"\n",
    "print(upper.isupper()) # return true if whole string in capslock"
   ]
  },
  {
   "cell_type": "markdown",
   "metadata": {},
   "source": [
    "# isnumeric"
   ]
  },
  {
   "cell_type": "code",
   "execution_count": 10,
   "metadata": {},
   "outputs": [
    {
     "name": "stdout",
     "output_type": "stream",
     "text": [
      "False\n",
      "True\n"
     ]
    }
   ],
   "source": [
    "numeric = \"2007abc\"\n",
    "numeric1 = \"4243654\"\n",
    "print(numeric.isnumeric())\n",
    "print(numeric1.isnumeric()) # returns true if whole string is numeric"
   ]
  },
  {
   "cell_type": "markdown",
   "metadata": {},
   "source": [
    "# isprintable"
   ]
  },
  {
   "cell_type": "code",
   "execution_count": 11,
   "metadata": {},
   "outputs": [
    {
     "name": "stdout",
     "output_type": "stream",
     "text": [
      "True\n",
      "False\n"
     ]
    }
   ],
   "source": [
    "printable = \"Global warming\"\n",
    "non_printable = \" Global \\t warming\"\n",
    "print(printable.isprintable()) # returns true if all strings are numbers alphabets empty string that are printable otherwise false \n",
    "print(non_printable.isprintable())"
   ]
  },
  {
   "cell_type": "markdown",
   "metadata": {},
   "source": [
    "# isspace"
   ]
  },
  {
   "cell_type": "code",
   "execution_count": 13,
   "metadata": {},
   "outputs": [
    {
     "name": "stdout",
     "output_type": "stream",
     "text": [
      "True\n",
      "True\n",
      "True\n",
      "False\n"
     ]
    }
   ],
   "source": [
    "space = \" \"\n",
    "space1 = \"\\n \\n\"\n",
    "space2 = \"\\t \\v\"\n",
    "non_space = \"sjksjd\"\n",
    "print(space.isspace()) # returns true if all characters in string are white space characters otherwise false\n",
    "print(space1.isspace())\n",
    "print(space2.isspace())\n",
    "print(non_space.isspace())"
   ]
  },
  {
   "cell_type": "markdown",
   "metadata": {},
   "source": [
    "# istitle"
   ]
  },
  {
   "cell_type": "code",
   "execution_count": 18,
   "metadata": {},
   "outputs": [
    {
     "name": "stdout",
     "output_type": "stream",
     "text": [
      "False\n",
      "True\n",
      "True\n"
     ]
    }
   ],
   "source": [
    "title = \"I am Learning Python\"\n",
    "title1 = \"I Am Learning Python\"\n",
    "title2 = \"2343 Is My Number\"\n",
    "print(title.istitle())\n",
    "print(title1.istitle()) # returns true if first letter of every word is capital\n",
    "print(title2.istitle())"
   ]
  },
  {
   "cell_type": "markdown",
   "metadata": {},
   "source": [
    "# join"
   ]
  },
  {
   "cell_type": "code",
   "execution_count": 22,
   "metadata": {},
   "outputs": [
    {
     "name": "stdout",
     "output_type": "stream",
     "text": [
      "1-2-3\n",
      "shiza-hammad\n"
     ]
    }
   ],
   "source": [
    "str1 = ['1', '2', '3']\n",
    "str2 = [\"shiza\", \"hammad\"]\n",
    "c = \"-\" # string separator\n",
    "print(c.join(str1)) # joined elements of iteratables will be stored in c\n",
    "print(c.join(str2))"
   ]
  },
  {
   "cell_type": "markdown",
   "metadata": {},
   "source": [
    "# lstrip"
   ]
  },
  {
   "cell_type": "code",
   "execution_count": 31,
   "metadata": {},
   "outputs": [
    {
     "name": "stdout",
     "output_type": "stream",
     "text": [
      "1234\n",
      "hon coding\n"
     ]
    }
   ],
   "source": [
    "str3 = \"1234\"\n",
    "str4 = \"python coding\"\n",
    "print(str3.lstrip()) # removes letters from the left side that are given in paranthesis otherwise removes leading spaces\n",
    "print(str4.lstrip(\"pty\"))"
   ]
  },
  {
   "cell_type": "markdown",
   "metadata": {},
   "source": [
    "# partition"
   ]
  },
  {
   "cell_type": "code",
   "execution_count": 38,
   "metadata": {},
   "outputs": [
    {
     "name": "stdout",
     "output_type": "stream",
     "text": [
      "('python is ', 'a', ' coding language')\n"
     ]
    }
   ],
   "source": [
    "str5 = \"python is a coding language\"\n",
    "print(str5.partition('a')) # returns tuple that contains a tuple that contains part before separator, separator & part after separator\n",
    "# it will do partition at the first occurence of the substring"
   ]
  },
  {
   "cell_type": "markdown",
   "metadata": {},
   "source": [
    "# rfind"
   ]
  },
  {
   "cell_type": "code",
   "execution_count": 48,
   "metadata": {},
   "outputs": [
    {
     "name": "stdout",
     "output_type": "stream",
     "text": [
      "python is a coding language\n",
      "24\n",
      "8\n"
     ]
    }
   ],
   "source": [
    "print(str5)\n",
    "str6 = \"is this is\"\n",
    "print(str5.rfind(\"a\")) # will find the index of the last occurence of substring\n",
    "print(str6.rfind(\"is\"))"
   ]
  },
  {
   "cell_type": "markdown",
   "metadata": {},
   "source": [
    "# rindex"
   ]
  },
  {
   "cell_type": "code",
   "execution_count": 42,
   "metadata": {},
   "outputs": [
    {
     "name": "stdout",
     "output_type": "stream",
     "text": [
      "24\n"
     ]
    }
   ],
   "source": [
    "print(str5.rindex('a')) returns the last position where the substring was found"
   ]
  },
  {
   "cell_type": "markdown",
   "metadata": {},
   "source": [
    "# rjust"
   ]
  },
  {
   "cell_type": "code",
   "execution_count": 46,
   "metadata": {},
   "outputs": [
    {
     "name": "stdout",
     "output_type": "stream",
     "text": [
      "*************python is a coding language\n"
     ]
    }
   ],
   "source": [
    "print(str5.rjust(40,\"*\")) # returns string of the length given that is right justified and the left sife is filled with characters"
   ]
  },
  {
   "cell_type": "markdown",
   "metadata": {},
   "source": [
    "# rpartition"
   ]
  },
  {
   "cell_type": "code",
   "execution_count": 49,
   "metadata": {},
   "outputs": [
    {
     "name": "stdout",
     "output_type": "stream",
     "text": [
      "python is a coding language\n",
      "('python is a cod', 'i', 'ng language')\n"
     ]
    }
   ],
   "source": [
    "print(str5)\n",
    "print(str5.rpartition(\"i\")) # partitions the string into 3 parts by looking at the last occurance of substring"
   ]
  },
  {
   "cell_type": "markdown",
   "metadata": {},
   "source": [
    "# rsplit"
   ]
  },
  {
   "cell_type": "code",
   "execution_count": 53,
   "metadata": {},
   "outputs": [
    {
     "name": "stdout",
     "output_type": "stream",
     "text": [
      "python is a coding language\n",
      "['python is a c', 'ding language']\n"
     ]
    }
   ],
   "source": [
    "print(str5)\n",
    "print(str5.rsplit(\"o\",1)) # it splits from the right side and 1 max split is given in parameter"
   ]
  },
  {
   "cell_type": "markdown",
   "metadata": {},
   "source": [
    "# split"
   ]
  },
  {
   "cell_type": "code",
   "execution_count": 52,
   "metadata": {},
   "outputs": [
    {
     "name": "stdout",
     "output_type": "stream",
     "text": [
      "['pyth', 'n is a coding language']\n"
     ]
    }
   ],
   "source": [
    "print(str5.split(\"o\",1))# it takes 2 arguments one tell where to split from and other tells the max splits"
   ]
  },
  {
   "cell_type": "markdown",
   "metadata": {},
   "source": [
    "# splitlines"
   ]
  },
  {
   "cell_type": "code",
   "execution_count": 68,
   "metadata": {},
   "outputs": [
    {
     "name": "stdout",
     "output_type": "stream",
     "text": [
      "['programming ', 'language ', 'c#']\n",
      "['programming \\n', 'language \\n', 'c#']\n",
      "['programming ', 'language ', 'c#']\n",
      "['programming language c#']\n"
     ]
    }
   ],
   "source": [
    "str7= \"programming \\nlanguage \\nc#\"\n",
    "print(str7.splitlines(0))\n",
    "print(str7.splitlines(1)) # if 1 or true given then line breakes will be included in output\n",
    "print(str7.splitlines()) #eturns a list with all the lines in string, optionally including the line breaks (if num is supplied and is true)\n",
    "str7= \"programming language c#\"\n",
    "print(str7.splitlines())"
   ]
  },
  {
   "cell_type": "markdown",
   "metadata": {},
   "source": [
    "# startswith"
   ]
  },
  {
   "cell_type": "code",
   "execution_count": 70,
   "metadata": {},
   "outputs": [
    {
     "name": "stdout",
     "output_type": "stream",
     "text": [
      "programming language c#\n",
      "True\n",
      "False\n"
     ]
    }
   ],
   "source": [
    "print(str7)\n",
    "print(str7.startswith(\"pro\")) # returns true if the string starts with the specified substring\n",
    "print(str7.startswith(\"lan\"))"
   ]
  },
  {
   "cell_type": "markdown",
   "metadata": {},
   "source": [
    "# swapcase"
   ]
  },
  {
   "cell_type": "code",
   "execution_count": 72,
   "metadata": {},
   "outputs": [
    {
     "name": "stdout",
     "output_type": "stream",
     "text": [
      "My friend's name is Iqra\n",
      "mY FRIEND'S NAME IS iQRA\n"
     ]
    }
   ],
   "source": [
    "print(name)\n",
    "print(name.swapcase()) # changes the upper case letters to lower case and the lower to upper case."
   ]
  },
  {
   "cell_type": "markdown",
   "metadata": {},
   "source": [
    "# title"
   ]
  },
  {
   "cell_type": "code",
   "execution_count": 73,
   "metadata": {},
   "outputs": [
    {
     "name": "stdout",
     "output_type": "stream",
     "text": [
      "My Friend'S Name Is Iqra\n"
     ]
    }
   ],
   "source": [
    "print(name.title()) # converts all the first letters of a word to upper case"
   ]
  },
  {
   "cell_type": "markdown",
   "metadata": {},
   "source": [
    "# zfill"
   ]
  },
  {
   "cell_type": "code",
   "execution_count": 75,
   "metadata": {},
   "outputs": [
    {
     "name": "stdout",
     "output_type": "stream",
     "text": [
      "0000001234\n"
     ]
    }
   ],
   "source": [
    "num2 =\"1234\"\n",
    "print(num2.zfill(10)) # string width is given as parameter and the left side is filled with zeros"
   ]
  },
  {
   "cell_type": "markdown",
   "metadata": {},
   "source": [
    "# ljust"
   ]
  },
  {
   "cell_type": "code",
   "execution_count": 81,
   "metadata": {},
   "outputs": [
    {
     "name": "stdout",
     "output_type": "stream",
     "text": [
      "My friend's name is Iqra\n",
      "My friend's name is Iqra**************************\n"
     ]
    }
   ],
   "source": [
    "print(name)\n",
    "print(name.ljust(50,'*')) # justifies the string text to the left and pads the right side with characters"
   ]
  },
  {
   "cell_type": "markdown",
   "metadata": {},
   "source": [
    "# lower"
   ]
  },
  {
   "cell_type": "code",
   "execution_count": 85,
   "metadata": {},
   "outputs": [
    {
     "name": "stdout",
     "output_type": "stream",
     "text": [
      "hello\n"
     ]
    }
   ],
   "source": [
    "upper1 = \"HELLo\"\n",
    "print(upper1.lower()) # coverts the upper case letters to lowercase"
   ]
  },
  {
   "cell_type": "markdown",
   "metadata": {},
   "source": [
    "# upper"
   ]
  },
  {
   "cell_type": "code",
   "execution_count": 83,
   "metadata": {},
   "outputs": [
    {
     "name": "stdout",
     "output_type": "stream",
     "text": [
      "HELLO\n"
     ]
    }
   ],
   "source": [
    "lower1 = \"hello\"\n",
    "print(lower1.upper()) # converts lower case letters to upper case"
   ]
  },
  {
   "cell_type": "markdown",
   "metadata": {},
   "source": [
    "# maketrans & # translate"
   ]
  },
  {
   "cell_type": "code",
   "execution_count": 90,
   "metadata": {},
   "outputs": [
    {
     "name": "stdout",
     "output_type": "stream",
     "text": [
      "{104: 49, 101: 50}\n",
      "12llo\n"
     ]
    }
   ],
   "source": [
    "intab = \"he\" # both intab and outtab must have same length\n",
    "outtab = \"12\"\n",
    "\n",
    "print(lower1.maketrans(intab, outtab)) #returns translation table that maps every character from intab into the chracter at outtab at the same position \n",
    "trans = lower1.maketrans(intab, outtab)\n",
    "print(lower1.translate(trans)) # here the table is passed to the translate function"
   ]
  },
  {
   "cell_type": "markdown",
   "metadata": {},
   "source": [
    "# replace"
   ]
  },
  {
   "cell_type": "code",
   "execution_count": 91,
   "metadata": {},
   "outputs": [
    {
     "name": "stdout",
     "output_type": "stream",
     "text": [
      "polo\n"
     ]
    }
   ],
   "source": [
    "print(lower1.replace(\"hel\",\"po\")) # replaces the substring with another substring in the string text"
   ]
  },
  {
   "cell_type": "markdown",
   "metadata": {},
   "source": [
    "# rstrip"
   ]
  },
  {
   "cell_type": "code",
   "execution_count": 97,
   "metadata": {},
   "outputs": [
    {
     "name": "stdout",
     "output_type": "stream",
     "text": [
      "My friend's name is Iqra\n",
      "My friend's name is Iq\n"
     ]
    }
   ],
   "source": [
    "print(name)\n",
    "print(name.rstrip(\"ra\")) # returns copy of string with stripped characters from the right end"
   ]
  }
 ],
 "metadata": {
  "kernelspec": {
   "display_name": "Python 3",
   "language": "python",
   "name": "python3"
  },
  "language_info": {
   "codemirror_mode": {
    "name": "ipython",
    "version": 3
   },
   "file_extension": ".py",
   "mimetype": "text/x-python",
   "name": "python",
   "nbconvert_exporter": "python",
   "pygments_lexer": "ipython3",
   "version": "3.7.0"
  }
 },
 "nbformat": 4,
 "nbformat_minor": 2
}
